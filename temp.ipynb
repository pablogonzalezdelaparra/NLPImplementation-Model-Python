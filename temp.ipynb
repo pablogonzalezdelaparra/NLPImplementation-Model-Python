{
 "cells": [
  {
   "cell_type": "code",
   "execution_count": 24,
   "metadata": {},
   "outputs": [],
   "source": [
    "from model import *"
   ]
  },
  {
   "cell_type": "code",
   "execution_count": 36,
   "metadata": {},
   "outputs": [],
   "source": [
    "train_path = \"./train_data\"\n",
    "# test_path = \"./generated_data/insert_replace_data\"\n",
    "test_path = \"./generated_data/paraphrase_data\"\n",
    "# test_path = \"./generated_data/time_data\"\n",
    "# test_path = \"./generated_data/unordered_data\"\n",
    "\n",
    "nlp = NLPModel(0.5, 3)\n",
    "train_data = (nlp._NLPModel__load_folder(train_path),)\n",
    "test_data = (nlp._NLPModel__load_folder(test_path),)"
   ]
  },
  {
   "cell_type": "code",
   "execution_count": 38,
   "metadata": {},
   "outputs": [
    {
     "name": "stdout",
     "output_type": "stream",
     "text": [
      "Classification Report:\n",
      "              precision    recall  f1-score   support\n",
      "\n",
      "           0       1.00      1.00      1.00        10\n",
      "           1       1.00      1.00      1.00        10\n",
      "           2       1.00      0.90      0.95        10\n",
      "           3       1.00      1.00      1.00        10\n",
      "           4       1.00      1.00      1.00        10\n",
      "           5       0.91      1.00      0.95        10\n",
      "           6       1.00      1.00      1.00        10\n",
      "           7       1.00      1.00      1.00        10\n",
      "           8       1.00      1.00      1.00        10\n",
      "           9       1.00      1.00      1.00        10\n",
      "          10       1.00      1.00      1.00        10\n",
      "\n",
      "    accuracy                           0.99       110\n",
      "   macro avg       0.99      0.99      0.99       110\n",
      "weighted avg       0.99      0.99      0.99       110\n",
      "\n",
      "Predicted Subjects for New Abstracts:\n",
      "[ 0  0  0  0  0  0  0  0  0  0  0  0  0  0  0  0  0  0  0  0  1  1  1  1\n",
      "  1  1  1  1  1  1  1  1  1  1  1  1  1  1  1  1  5  5  2  2  2  2  2  2\n",
      "  2  2  2  2  2  2  2  2  2  2  2  2  3  3  3  3  3  3  3  3  3  3  3  3\n",
      "  3  3  3  3  3  3  3  3  4  4  4  4  4  4  4  4  4  4  4  4  4  4  4  4\n",
      "  4  4  4  4  5  5  5  5  5  5  5  5  5  5  5  5  5  5  5  5  5  5  5  5\n",
      "  6  6  6  6  6  6  6  6  6  6  6  6  6  6  6  6  6  6  6  6  7  7  7  7\n",
      "  7  7  7  7  7  7  7  7  7  7  7  7  7  7  7  7  8  8  8  8  8  8  8  8\n",
      "  8  8  8  8  8  8  8  8  2  2  8  8  9  9  9  9  9  9  3  3  9  9  9  9\n",
      "  9  9  9  9  9  9  9  9 10 10 10 10 10 10 10 10 10 10 10 10 10 10 10 10\n",
      " 10 10 10 10]\n"
     ]
    }
   ],
   "source": [
    "from sklearn.feature_extraction.text import TfidfVectorizer\n",
    "from sklearn.linear_model import LogisticRegression\n",
    "from sklearn.pipeline import Pipeline\n",
    "from sklearn.metrics import classification_report\n",
    "import numpy as np\n",
    "\n",
    "# Data preparation\n",
    "abstracts = train_data[0]\n",
    "subjects = [\n",
    "    [0] * 10,\n",
    "    [1] * 10,\n",
    "    [2] * 10,\n",
    "    [3] * 10,\n",
    "    [4] * 10,\n",
    "    [5] * 10,\n",
    "    [6] * 10,\n",
    "    [7] * 10,\n",
    "    [8] * 10,\n",
    "    [9] * 10,\n",
    "    [10] * 10,\n",
    "    [11] * 10,\n",
    "]\n",
    "\n",
    "# Split abstracts into groups of 10\n",
    "abstracts_groups = [abstracts[i : i + 10] for i in range(0, len(abstracts), 10)]\n",
    "subjects_groups = [[i] * 10 for i in range(len(abstracts_groups))]\n",
    "\n",
    "# Flatten the groups\n",
    "abstracts = [abstract for group in abstracts_groups for abstract in group]\n",
    "subjects = [subject for group in subjects_groups for subject in group]\n",
    "\n",
    "# Feature extraction and model selection\n",
    "pipeline = Pipeline([(\"tfidf\", TfidfVectorizer()), (\"clf\", LogisticRegression())])\n",
    "\n",
    "# Training\n",
    "pipeline.fit(abstracts, subjects)\n",
    "\n",
    "# Evaluation\n",
    "predicted_subjects = pipeline.predict(abstracts)\n",
    "print(\"Classification Report:\")\n",
    "print(classification_report(subjects, predicted_subjects))\n",
    "\n",
    "# Prediction example\n",
    "# print(test_data[0])\n",
    "\n",
    "predicted_new_subjects = pipeline.predict(test_data[0])\n",
    "print(\"Predicted Subjects for New Abstracts:\")\n",
    "print(predicted_new_subjects)"
   ]
  }
 ],
 "metadata": {
  "kernelspec": {
   "display_name": "venv",
   "language": "python",
   "name": "python3"
  },
  "language_info": {
   "codemirror_mode": {
    "name": "ipython",
    "version": 3
   },
   "file_extension": ".py",
   "mimetype": "text/x-python",
   "name": "python",
   "nbconvert_exporter": "python",
   "pygments_lexer": "ipython3",
   "version": "3.9.7"
  }
 },
 "nbformat": 4,
 "nbformat_minor": 2
}
