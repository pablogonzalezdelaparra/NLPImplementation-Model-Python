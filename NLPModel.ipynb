{
 "cells": [
  {
   "cell_type": "code",
   "execution_count": 1100,
   "metadata": {},
   "outputs": [],
   "source": [
    "# Install libraries\n",
    "\"\"\"\n",
    "Uncomment these the first time you run the code\n",
    "\n",
    "# %pip install nltk\n",
    "# nltk.download(\"stopwords\")\n",
    "# nltk.download('punkt')\n",
    "# nltk.download('universal_tagset')\n",
    "nltk.download('wordnet')\n",
    "\"\"\"\n",
    "\n",
    "import re\n",
    "import os\n",
    "from nltk.tokenize import word_tokenize\n",
    "from nltk.tokenize import sent_tokenize\n",
    "from nltk.corpus import stopwords\n",
    "from nltk.stem import WordNetLemmatizer\n",
    "from nltk.util import ngrams\n",
    "from sklearn.metrics import pairwise"
   ]
  },
  {
   "cell_type": "code",
   "execution_count": 1101,
   "metadata": {},
   "outputs": [],
   "source": [
    "# Load the training data\n",
    "def load_folder(folder):\n",
    "    data = []\n",
    "    for filename in sorted(os.listdir(folder)):\n",
    "        if filename.endswith('.txt'):\n",
    "            with open(os.path.join(folder, filename), 'r', encoding='utf-8-sig') as f:\n",
    "                data.append(f.read())\n",
    "    return data"
   ]
  },
  {
   "cell_type": "code",
   "execution_count": 1102,
   "metadata": {},
   "outputs": [],
   "source": [
    "# Load the test data\n",
    "def load_file(file_path):\n",
    "    with open(file_path, 'r', encoding='utf-8-sig') as file:\n",
    "        data = file.read()\n",
    "    return [data]"
   ]
  },
  {
   "cell_type": "code",
   "execution_count": 1103,
   "metadata": {},
   "outputs": [],
   "source": [
    "# Tokenize the data - sentence level and return the sentence boundaries\n",
    "def tokenize_data(data):\n",
    "    tokenized_data = []\n",
    "    text_enum = {}\n",
    "    global_count = 0\n",
    "    for i, text in enumerate(data):\n",
    "        tokenized_text = sent_tokenize(text)\n",
    "        tokenized_data.append(tokenized_text)\n",
    "\n",
    "        # Enumerate the sentence boundaries\n",
    "        count = 0\n",
    "        for _ in tokenized_text:\n",
    "            text_enum[global_count] = [i, count]\n",
    "            \n",
    "            count += 1\n",
    "            global_count += 1\n",
    "\n",
    "    return tokenized_data, text_enum\n",
    "\n",
    "    # return [sent_tokenize(text) for text in data]"
   ]
  },
  {
   "cell_type": "code",
   "execution_count": 1104,
   "metadata": {},
   "outputs": [],
   "source": [
    "# Convert data to lowercase\n",
    "def lower_case(data):\n",
    "    return [[sentence.lower() for sentence in text] for text in data]"
   ]
  },
  {
   "cell_type": "code",
   "execution_count": 1105,
   "metadata": {},
   "outputs": [],
   "source": [
    "# Remove non-word characters\n",
    "def remove_non_word(data):\n",
    "    return [[re.sub(r'[^\\w\\s]', '', sentence) for sentence in text] for text in data]"
   ]
  },
  {
   "cell_type": "code",
   "execution_count": 1106,
   "metadata": {},
   "outputs": [],
   "source": [
    "# Remove stop words\n",
    "def remove_stop_words(data):\n",
    "    stop_words = set(stopwords.words('english'))\n",
    "    return [[word for word in text if word not in stop_words] for text in data]"
   ]
  },
  {
   "cell_type": "code",
   "execution_count": 1107,
   "metadata": {},
   "outputs": [],
   "source": [
    "# Tokenize the data - word level\n",
    "def tokenize_words(data):\n",
    "    return [word_tokenize(sentence) for text in data for sentence in text]"
   ]
  },
  {
   "cell_type": "code",
   "execution_count": 1108,
   "metadata": {},
   "outputs": [],
   "source": [
    "# Lemmatize the data\n",
    "def lemmatize_data(data):\n",
    "    lemmatizer = WordNetLemmatizer()\n",
    "    return [[lemmatizer.lemmatize(word) for word in text] for text in data ]"
   ]
  },
  {
   "cell_type": "code",
   "execution_count": 1109,
   "metadata": {},
   "outputs": [],
   "source": [
    "# Flatten the data\n",
    "def flatten_data(data):\n",
    "    return [word for text in data for word in text]"
   ]
  },
  {
   "cell_type": "code",
   "execution_count": 1110,
   "metadata": {},
   "outputs": [],
   "source": [
    "# Get n-grams\n",
    "def get_ngrams(data, n, train_flag=False):\n",
    "    if train_flag:\n",
    "        n_gram = []\n",
    "        for text in data:  \n",
    "            n_gram.append(list(ngrams(text, n)))\n",
    "        return n_gram\n",
    "    \n",
    "    # TODO: Implement case when n = 1\n",
    "    \n",
    "    return list(ngrams(data, n))"
   ]
  },
  {
   "cell_type": "code",
   "execution_count": 1111,
   "metadata": {},
   "outputs": [],
   "source": [
    "def one_hot_encoding(corpus, sentences):\n",
    "    temp_vector = []\n",
    "    one_hot_test = []\n",
    "\n",
    "    for sentence in sentences:\n",
    "        for word in corpus:\n",
    "            if word in sentence:\n",
    "                temp_vector.append(1)\n",
    "            else:\n",
    "                temp_vector.append(0)\n",
    "        one_hot_test.append(temp_vector)\n",
    "        temp_vector = []\n",
    "    return one_hot_test"
   ]
  },
  {
   "cell_type": "code",
   "execution_count": 1112,
   "metadata": {},
   "outputs": [],
   "source": [
    "# Train and test the model\n",
    "def train_test_model(test):\n",
    "    # Training data\n",
    "    data = load_folder('./train')\n",
    "\n",
    "    sentences_train, sentences_train_enum = tokenize_data(data)\n",
    "    sentences_train = lower_case(sentences_train)\n",
    "    sentences_train = remove_non_word(sentences_train)\n",
    "\n",
    "    sentences_mod_train = tokenize_words(sentences_train)\n",
    "    sentences_mod_train = remove_stop_words(sentences_mod_train)\n",
    "    sentences_mod_train = lemmatize_data(sentences_mod_train)\n",
    "\n",
    "    # Testing data\n",
    "    sentences_test, sentences_test_enum = tokenize_data(test)\n",
    "\n",
    "    sentences_test = lower_case(sentences_test)\n",
    "    sentences_test = remove_non_word(sentences_test)\n",
    "\n",
    "    sentences_mod_test = tokenize_words(sentences_test)\n",
    "    sentences_mod_test = remove_stop_words(sentences_mod_test)\n",
    "    sentences_mod_test = lemmatize_data(sentences_mod_test)\n",
    "\n",
    "    # Data conversion\n",
    "    sentences_mod_train_corpus = flatten_data(sentences_mod_train)\n",
    "    sentences_mod_train = get_ngrams(sentences_mod_train, 2, True)\n",
    "    sentences_mod_test = get_ngrams(sentences_mod_test, 2, True)\n",
    "    sentences_mod_train_corpus = get_ngrams(sentences_mod_train_corpus, 2)\n",
    "\n",
    "    print(sentences_test_enum)\n",
    "    print(sentences_train_enum)\n",
    "\n",
    "    # One hot encoding\n",
    "    one_hot_test_train = one_hot_encoding(sentences_mod_train_corpus, sentences_mod_train)\n",
    "    one_hot_test_test = one_hot_encoding(sentences_mod_train_corpus, sentences_mod_test)\n",
    "\n",
    "    return one_hot_test_train, one_hot_test_test, sentences_train_enum, sentences_test_enum, sentences_mod_train, sentences_mod_test"
   ]
  },
  {
   "cell_type": "code",
   "execution_count": 1113,
   "metadata": {},
   "outputs": [
    {
     "name": "stdout",
     "output_type": "stream",
     "text": [
      "{0: [0, 0], 1: [0, 1], 2: [0, 2], 3: [0, 3], 4: [0, 4], 5: [0, 5], 6: [0, 6], 7: [0, 7]}\n",
      "{0: [0, 0], 1: [0, 1], 2: [0, 2], 3: [0, 3], 4: [0, 4], 5: [0, 5], 6: [1, 0], 7: [1, 1], 8: [1, 2], 9: [1, 3], 10: [1, 4], 11: [1, 5], 12: [1, 6], 13: [2, 0], 14: [2, 1], 15: [2, 2], 16: [2, 3], 17: [2, 4], 18: [2, 5], 19: [2, 6], 20: [2, 7], 21: [3, 0], 22: [3, 1], 23: [3, 2], 24: [3, 3], 25: [3, 4], 26: [3, 5], 27: [3, 6], 28: [3, 7], 29: [3, 8], 30: [3, 9], 31: [3, 10], 32: [3, 11], 33: [3, 12], 34: [3, 13], 35: [3, 14], 36: [4, 0], 37: [4, 1], 38: [4, 2], 39: [4, 3], 40: [4, 4], 41: [5, 0], 42: [5, 1], 43: [5, 2], 44: [5, 3], 45: [6, 0], 46: [6, 1], 47: [6, 2], 48: [6, 3], 49: [6, 4], 50: [6, 5], 51: [7, 0], 52: [7, 1], 53: [7, 2], 54: [8, 0], 55: [8, 1], 56: [8, 2], 57: [8, 3], 58: [8, 4], 59: [8, 5], 60: [8, 6], 61: [8, 7], 62: [9, 0], 63: [9, 1], 64: [9, 2], 65: [9, 3], 66: [9, 4], 67: [9, 5], 68: [9, 6], 69: [10, 0], 70: [10, 1], 71: [10, 2], 72: [10, 3], 73: [10, 4], 74: [10, 5], 75: [11, 0], 76: [11, 1], 77: [11, 2], 78: [11, 3], 79: [11, 4], 80: [11, 5], 81: [11, 6], 82: [11, 7], 83: [12, 0], 84: [12, 1], 85: [12, 2], 86: [12, 3], 87: [12, 4], 88: [12, 5], 89: [12, 6], 90: [12, 7], 91: [12, 8], 92: [12, 9], 93: [12, 10], 94: [12, 11], 95: [13, 0], 96: [13, 1], 97: [13, 2], 98: [13, 3], 99: [13, 4], 100: [13, 5], 101: [13, 6], 102: [13, 7], 103: [13, 8], 104: [14, 0], 105: [14, 1], 106: [14, 2], 107: [14, 3], 108: [14, 4], 109: [14, 5], 110: [14, 6], 111: [14, 7], 112: [14, 8], 113: [14, 9], 114: [14, 10], 115: [15, 0], 116: [15, 1], 117: [15, 2], 118: [15, 3], 119: [15, 4], 120: [15, 5], 121: [15, 6], 122: [15, 7], 123: [15, 8], 124: [16, 0], 125: [16, 1], 126: [16, 2], 127: [16, 3], 128: [16, 4], 129: [16, 5], 130: [16, 6], 131: [17, 0], 132: [17, 1], 133: [17, 2], 134: [17, 3], 135: [17, 4], 136: [17, 5], 137: [17, 6], 138: [17, 7], 139: [17, 8], 140: [17, 9], 141: [17, 10], 142: [17, 11], 143: [18, 0], 144: [18, 1], 145: [18, 2], 146: [18, 3], 147: [18, 4], 148: [18, 5], 149: [19, 0], 150: [19, 1], 151: [19, 2], 152: [19, 3], 153: [19, 4], 154: [19, 5], 155: [19, 6], 156: [19, 7], 157: [19, 8], 158: [20, 0], 159: [20, 1], 160: [20, 2], 161: [20, 3], 162: [20, 4], 163: [20, 5], 164: [20, 6], 165: [20, 7], 166: [21, 0], 167: [21, 1], 168: [21, 2], 169: [21, 3], 170: [21, 4], 171: [21, 5], 172: [21, 6], 173: [22, 0], 174: [22, 1], 175: [22, 2], 176: [22, 3], 177: [22, 4], 178: [22, 5], 179: [22, 6], 180: [22, 7], 181: [22, 8], 182: [22, 9], 183: [22, 10], 184: [22, 11], 185: [23, 0], 186: [23, 1], 187: [23, 2], 188: [23, 3], 189: [23, 4], 190: [23, 5], 191: [23, 6], 192: [23, 7], 193: [23, 8], 194: [23, 9], 195: [23, 10], 196: [23, 11], 197: [24, 0], 198: [24, 1], 199: [24, 2], 200: [24, 3], 201: [24, 4], 202: [24, 5], 203: [24, 6], 204: [24, 7], 205: [25, 0], 206: [25, 1], 207: [25, 2], 208: [25, 3], 209: [25, 4], 210: [26, 0], 211: [26, 1], 212: [26, 2], 213: [26, 3], 214: [26, 4], 215: [26, 5], 216: [26, 6], 217: [26, 7], 218: [26, 8], 219: [26, 9], 220: [27, 0], 221: [27, 1], 222: [27, 2], 223: [27, 3], 224: [27, 4], 225: [27, 5], 226: [27, 6], 227: [27, 7], 228: [27, 8], 229: [28, 0], 230: [28, 1], 231: [28, 2], 232: [28, 3], 233: [28, 4], 234: [28, 5], 235: [28, 6], 236: [29, 0], 237: [29, 1], 238: [29, 2], 239: [29, 3], 240: [29, 4], 241: [29, 5], 242: [29, 6], 243: [29, 7], 244: [29, 8], 245: [29, 9], 246: [29, 10], 247: [30, 0], 248: [30, 1], 249: [30, 2], 250: [30, 3], 251: [30, 4], 252: [30, 5], 253: [30, 6], 254: [31, 0], 255: [31, 1], 256: [31, 2], 257: [31, 3], 258: [31, 4], 259: [31, 5], 260: [31, 6], 261: [31, 7], 262: [31, 8], 263: [32, 0], 264: [32, 1], 265: [32, 2], 266: [32, 3], 267: [32, 4], 268: [32, 5], 269: [32, 6], 270: [33, 0], 271: [33, 1], 272: [33, 2], 273: [33, 3], 274: [33, 4], 275: [33, 5], 276: [33, 6], 277: [33, 7], 278: [33, 8], 279: [34, 0], 280: [34, 1], 281: [34, 2], 282: [34, 3], 283: [34, 4], 284: [34, 5], 285: [34, 6], 286: [34, 7], 287: [34, 8], 288: [35, 0], 289: [35, 1], 290: [35, 2], 291: [35, 3], 292: [35, 4], 293: [36, 0], 294: [36, 1], 295: [36, 2], 296: [36, 3], 297: [36, 4], 298: [37, 0], 299: [37, 1], 300: [37, 2], 301: [37, 3], 302: [37, 4], 303: [37, 5], 304: [37, 6], 305: [37, 7], 306: [37, 8], 307: [38, 0], 308: [38, 1], 309: [38, 2], 310: [38, 3], 311: [38, 4], 312: [38, 5], 313: [38, 6], 314: [38, 7], 315: [38, 8], 316: [38, 9], 317: [38, 10], 318: [38, 11], 319: [39, 0], 320: [39, 1], 321: [39, 2], 322: [39, 3], 323: [39, 4], 324: [39, 5], 325: [39, 6], 326: [39, 7], 327: [39, 8], 328: [40, 0], 329: [40, 1], 330: [40, 2], 331: [40, 3], 332: [40, 4], 333: [40, 5], 334: [40, 6], 335: [41, 0], 336: [41, 1], 337: [41, 2], 338: [41, 3], 339: [41, 4], 340: [41, 5], 341: [41, 6], 342: [41, 7], 343: [41, 8], 344: [41, 9], 345: [41, 10], 346: [41, 11], 347: [41, 12], 348: [41, 13], 349: [41, 14], 350: [41, 15], 351: [41, 16], 352: [41, 17], 353: [41, 18], 354: [41, 19], 355: [41, 20], 356: [41, 21], 357: [41, 22], 358: [41, 23], 359: [41, 24], 360: [41, 25], 361: [41, 26], 362: [41, 27], 363: [41, 28], 364: [41, 29], 365: [42, 0], 366: [42, 1], 367: [42, 2], 368: [42, 3], 369: [42, 4], 370: [42, 5], 371: [43, 0], 372: [43, 1], 373: [43, 2], 374: [43, 3], 375: [43, 4], 376: [43, 5], 377: [44, 0], 378: [44, 1], 379: [44, 2], 380: [44, 3], 381: [44, 4], 382: [44, 5], 383: [44, 6], 384: [44, 7], 385: [44, 8], 386: [45, 0], 387: [45, 1], 388: [45, 2], 389: [45, 3], 390: [45, 4], 391: [45, 5], 392: [45, 6], 393: [46, 0], 394: [46, 1], 395: [46, 2], 396: [46, 3], 397: [46, 4], 398: [47, 0], 399: [47, 1], 400: [47, 2], 401: [47, 3], 402: [47, 4], 403: [47, 5], 404: [47, 6], 405: [47, 7], 406: [48, 0], 407: [48, 1], 408: [48, 2], 409: [48, 3], 410: [48, 4], 411: [48, 5], 412: [48, 6], 413: [48, 7], 414: [48, 8], 415: [48, 9], 416: [49, 0], 417: [49, 1], 418: [49, 2], 419: [49, 3], 420: [49, 4], 421: [49, 5], 422: [49, 6], 423: [49, 7], 424: [49, 8], 425: [49, 9], 426: [50, 0], 427: [50, 1], 428: [50, 2], 429: [50, 3], 430: [50, 4], 431: [50, 5], 432: [50, 6], 433: [50, 7], 434: [51, 0], 435: [51, 1], 436: [51, 2], 437: [51, 3], 438: [51, 4], 439: [51, 5], 440: [52, 0], 441: [52, 1], 442: [52, 2], 443: [52, 3], 444: [53, 0], 445: [53, 1], 446: [53, 2], 447: [53, 3], 448: [53, 4], 449: [53, 5], 450: [53, 6], 451: [53, 7], 452: [54, 0], 453: [54, 1], 454: [54, 2], 455: [54, 3], 456: [54, 4], 457: [54, 5], 458: [54, 6], 459: [54, 7], 460: [55, 0], 461: [55, 1], 462: [55, 2], 463: [55, 3], 464: [55, 4], 465: [55, 5], 466: [55, 6], 467: [55, 7], 468: [55, 8], 469: [55, 9], 470: [56, 0], 471: [56, 1], 472: [56, 2], 473: [56, 3], 474: [56, 4], 475: [56, 5], 476: [56, 6], 477: [56, 7], 478: [56, 8], 479: [56, 9], 480: [56, 10], 481: [57, 0], 482: [57, 1], 483: [57, 2], 484: [57, 3], 485: [57, 4], 486: [57, 5], 487: [57, 6], 488: [57, 7], 489: [57, 8], 490: [57, 9], 491: [58, 0], 492: [58, 1], 493: [58, 2], 494: [58, 3], 495: [58, 4], 496: [58, 5], 497: [59, 0], 498: [59, 1], 499: [59, 2], 500: [59, 3], 501: [59, 4], 502: [59, 5], 503: [59, 6], 504: [59, 7], 505: [59, 8], 506: [59, 9], 507: [59, 10], 508: [60, 0], 509: [60, 1], 510: [60, 2], 511: [60, 3], 512: [60, 4], 513: [60, 5], 514: [60, 6], 515: [60, 7], 516: [60, 8], 517: [60, 9], 518: [60, 10], 519: [60, 11], 520: [60, 12], 521: [60, 13], 522: [60, 14], 523: [60, 15], 524: [60, 16], 525: [60, 17], 526: [60, 18], 527: [60, 19], 528: [60, 20], 529: [60, 21], 530: [60, 22], 531: [61, 0], 532: [61, 1], 533: [61, 2], 534: [61, 3], 535: [61, 4], 536: [61, 5], 537: [61, 6], 538: [61, 7], 539: [61, 8], 540: [61, 9], 541: [62, 0], 542: [62, 1], 543: [62, 2], 544: [62, 3], 545: [62, 4], 546: [62, 5], 547: [62, 6], 548: [62, 7], 549: [62, 8], 550: [63, 0], 551: [63, 1], 552: [63, 2], 553: [63, 3], 554: [63, 4], 555: [63, 5], 556: [63, 6], 557: [63, 7], 558: [63, 8], 559: [64, 0], 560: [64, 1], 561: [64, 2], 562: [64, 3], 563: [64, 4], 564: [64, 5], 565: [64, 6], 566: [65, 0], 567: [65, 1], 568: [65, 2], 569: [65, 3], 570: [65, 4], 571: [65, 5], 572: [65, 6], 573: [65, 7], 574: [66, 0], 575: [66, 1], 576: [66, 2], 577: [66, 3], 578: [66, 4], 579: [66, 5], 580: [66, 6], 581: [66, 7], 582: [66, 8], 583: [66, 9], 584: [67, 0], 585: [67, 1], 586: [67, 2], 587: [67, 3], 588: [67, 4], 589: [67, 5], 590: [67, 6], 591: [67, 7], 592: [67, 8], 593: [68, 0], 594: [68, 1], 595: [69, 0], 596: [69, 1], 597: [69, 2], 598: [69, 3], 599: [69, 4], 600: [70, 0], 601: [70, 1], 602: [70, 2], 603: [70, 3], 604: [70, 4], 605: [70, 5], 606: [71, 0], 607: [71, 1], 608: [71, 2], 609: [71, 3], 610: [71, 4], 611: [71, 5], 612: [71, 6], 613: [71, 7], 614: [72, 0], 615: [72, 1], 616: [72, 2], 617: [72, 3], 618: [72, 4], 619: [72, 5], 620: [72, 6], 621: [72, 7], 622: [72, 8], 623: [72, 9], 624: [73, 0], 625: [73, 1], 626: [73, 2], 627: [73, 3], 628: [74, 0], 629: [74, 1], 630: [74, 2], 631: [74, 3], 632: [74, 4], 633: [74, 5], 634: [74, 6], 635: [75, 0], 636: [75, 1], 637: [75, 2], 638: [75, 3], 639: [75, 4], 640: [75, 5], 641: [75, 6], 642: [75, 7], 643: [76, 0], 644: [76, 1], 645: [76, 2], 646: [76, 3], 647: [76, 4], 648: [76, 5], 649: [76, 6], 650: [76, 7], 651: [76, 8], 652: [77, 0], 653: [77, 1], 654: [77, 2], 655: [77, 3], 656: [77, 4], 657: [78, 0], 658: [78, 1], 659: [78, 2], 660: [78, 3], 661: [78, 4], 662: [78, 5], 663: [78, 6], 664: [78, 7], 665: [78, 8], 666: [78, 9], 667: [78, 10], 668: [78, 11], 669: [78, 12], 670: [78, 13], 671: [78, 14], 672: [79, 0], 673: [79, 1], 674: [79, 2], 675: [79, 3], 676: [79, 4], 677: [79, 5], 678: [79, 6], 679: [79, 7], 680: [80, 0], 681: [80, 1], 682: [80, 2], 683: [80, 3], 684: [80, 4], 685: [80, 5], 686: [80, 6], 687: [80, 7], 688: [80, 8], 689: [81, 0], 690: [81, 1], 691: [81, 2], 692: [81, 3], 693: [81, 4], 694: [81, 5], 695: [81, 6], 696: [82, 0], 697: [82, 1], 698: [82, 2], 699: [82, 3], 700: [83, 0], 701: [83, 1], 702: [83, 2], 703: [83, 3], 704: [83, 4], 705: [83, 5], 706: [83, 6], 707: [83, 7], 708: [84, 0], 709: [84, 1], 710: [84, 2], 711: [84, 3], 712: [84, 4], 713: [84, 5], 714: [84, 6], 715: [84, 7], 716: [84, 8], 717: [85, 0], 718: [85, 1], 719: [85, 2], 720: [85, 3], 721: [85, 4], 722: [85, 5], 723: [85, 6], 724: [85, 7], 725: [86, 0], 726: [86, 1], 727: [86, 2], 728: [86, 3], 729: [86, 4], 730: [86, 5], 731: [86, 6], 732: [86, 7], 733: [86, 8], 734: [86, 9], 735: [86, 10], 736: [86, 11], 737: [86, 12], 738: [86, 13], 739: [86, 14], 740: [86, 15], 741: [86, 16], 742: [86, 17], 743: [87, 0], 744: [87, 1], 745: [87, 2], 746: [87, 3], 747: [87, 4], 748: [87, 5], 749: [88, 0], 750: [88, 1], 751: [88, 2], 752: [88, 3], 753: [88, 4], 754: [88, 5], 755: [88, 6], 756: [88, 7], 757: [88, 8], 758: [88, 9], 759: [88, 10], 760: [88, 11], 761: [88, 12], 762: [89, 0], 763: [89, 1], 764: [89, 2], 765: [89, 3], 766: [89, 4], 767: [89, 5], 768: [89, 6], 769: [89, 7], 770: [89, 8], 771: [89, 9], 772: [89, 10], 773: [89, 11], 774: [90, 0], 775: [90, 1], 776: [90, 2], 777: [90, 3], 778: [90, 4], 779: [90, 5], 780: [90, 6], 781: [90, 7], 782: [91, 0], 783: [91, 1], 784: [91, 2], 785: [91, 3], 786: [91, 4], 787: [91, 5], 788: [92, 0], 789: [92, 1], 790: [92, 2], 791: [92, 3], 792: [92, 4], 793: [92, 5], 794: [93, 0], 795: [93, 1], 796: [93, 2], 797: [93, 3], 798: [93, 4], 799: [94, 0], 800: [94, 1], 801: [94, 2], 802: [94, 3], 803: [94, 4], 804: [94, 5], 805: [95, 0], 806: [95, 1], 807: [95, 2], 808: [95, 3], 809: [95, 4], 810: [95, 5], 811: [96, 0], 812: [96, 1], 813: [96, 2], 814: [96, 3], 815: [96, 4], 816: [96, 5], 817: [96, 6], 818: [96, 7], 819: [96, 8], 820: [97, 0], 821: [97, 1], 822: [97, 2], 823: [97, 3], 824: [97, 4], 825: [97, 5], 826: [97, 6], 827: [97, 7], 828: [97, 8], 829: [97, 9], 830: [97, 10], 831: [97, 11], 832: [97, 12], 833: [97, 13], 834: [97, 14], 835: [97, 15], 836: [98, 0], 837: [98, 1], 838: [98, 2], 839: [98, 3], 840: [98, 4], 841: [98, 5], 842: [98, 6], 843: [98, 7], 844: [98, 8], 845: [98, 9], 846: [98, 10], 847: [98, 11], 848: [98, 12], 849: [99, 0], 850: [99, 1], 851: [99, 2], 852: [99, 3], 853: [99, 4], 854: [99, 5], 855: [99, 6], 856: [100, 0], 857: [100, 1], 858: [100, 2], 859: [100, 3], 860: [100, 4], 861: [100, 5], 862: [100, 6], 863: [100, 7], 864: [100, 8], 865: [100, 9], 866: [100, 10], 867: [100, 11], 868: [100, 12], 869: [101, 0], 870: [101, 1], 871: [101, 2], 872: [102, 0], 873: [102, 1], 874: [102, 2], 875: [102, 3], 876: [103, 0], 877: [103, 1], 878: [103, 2], 879: [103, 3], 880: [103, 4], 881: [103, 5], 882: [104, 0], 883: [104, 1], 884: [104, 2], 885: [104, 3], 886: [104, 4], 887: [104, 5], 888: [104, 6], 889: [104, 7], 890: [104, 8], 891: [104, 9], 892: [104, 10], 893: [105, 0], 894: [105, 1], 895: [105, 2], 896: [105, 3], 897: [105, 4], 898: [105, 5], 899: [105, 6], 900: [106, 0], 901: [106, 1], 902: [106, 2], 903: [106, 3], 904: [106, 4], 905: [106, 5], 906: [106, 6], 907: [106, 7], 908: [106, 8], 909: [106, 9], 910: [106, 10], 911: [106, 11], 912: [107, 0], 913: [107, 1], 914: [107, 2], 915: [107, 3], 916: [107, 4], 917: [107, 5], 918: [107, 6], 919: [107, 7], 920: [107, 8], 921: [107, 9], 922: [107, 10], 923: [107, 11], 924: [107, 12], 925: [107, 13], 926: [107, 14], 927: [108, 0], 928: [108, 1], 929: [108, 2], 930: [108, 3], 931: [108, 4], 932: [108, 5], 933: [108, 6], 934: [108, 7], 935: [108, 8], 936: [109, 0], 937: [109, 1], 938: [109, 2], 939: [109, 3], 940: [109, 4], 941: [109, 5]}\n"
     ]
    }
   ],
   "source": [
    "file_path = './test/FID-01.txt'\n",
    "test = load_file(file_path)\n",
    "\n",
    "mat_train, mat_test, train_enum, test_enum, train_sentences, test_sentences = train_test_model(test)"
   ]
  },
  {
   "cell_type": "code",
   "execution_count": 1114,
   "metadata": {},
   "outputs": [
    {
     "name": "stdout",
     "output_type": "stream",
     "text": [
      "Similarity detected:\n",
      "FID-1.txt sentence 3 vs org-73.txt sentence 3: 61.45%\n",
      "FID-1.txt: [('address', 'issue'), ('issue', 'leverage'), ('leverage', 'power'), ('power', 'fuzzy'), ('fuzzy', 'logic'), ('logic', 'system'), ('system', 'fl'), ('fl', 'employ'), ('employ', 'adaptive'), ('adaptive', 'method'), ('method', 'approximate'), ('approximate', 'unknown'), ('unknown', 'nonlinear'), ('nonlinear', 'function'), ('function', 'uncertain'), ('uncertain', 'parameter'), ('parameter', 'present'), ('present', 'robotic'), ('robotic', 'dynamic')]\n",
      "org-73.txt: [('fuzzy', 'logic'), ('logic', 'always'), ('always', 'optimal'), ('optimal', 'choice'), ('choice', 'quantification')]\n",
      "\n",
      "Similarity detected:\n",
      "FID-1.txt sentence 3 vs org-75.txt sentence 1: 50.95%\n",
      "FID-1.txt: [('address', 'issue'), ('issue', 'leverage'), ('leverage', 'power'), ('power', 'fuzzy'), ('fuzzy', 'logic'), ('logic', 'system'), ('system', 'fl'), ('fl', 'employ'), ('employ', 'adaptive'), ('adaptive', 'method'), ('method', 'approximate'), ('approximate', 'unknown'), ('unknown', 'nonlinear'), ('nonlinear', 'function'), ('function', 'uncertain'), ('uncertain', 'parameter'), ('parameter', 'present'), ('present', 'robotic'), ('robotic', 'dynamic')]\n",
      "org-75.txt: [('article', 'employ'), ('employ', 'fuzzy'), ('fuzzy', 'logic'), ('logic', 'controller'), ('controller', 'flc'), ('flc', 'investigate'), ('investigate', 'voltage'), ('voltage', 'stability'), ('stability', 'pvbased'), ('pvbased', 'dc'), ('dc', 'microgrid')]\n",
      "\n",
      "Similarity detected:\n",
      "FID-1.txt sentence 1 vs org-76.txt sentence 1: 100.0%\n",
      "FID-1.txt: [('article', 'delf'), ('delf', 'intricacy'), ('intricacy', 'adaptive'), ('adaptive', 'fuzzy'), ('fuzzy', 'eventtriggered'), ('eventtriggered', 'formation'), ('formation', 'tracking'), ('tracking', 'control'), ('control', 'nonholonomic'), ('nonholonomic', 'multirobot'), ('multirobot', 'system'), ('system', 'characterized'), ('characterized', 'infinite'), ('infinite', 'actuator'), ('actuator', 'fault'), ('fault', 'range'), ('range', 'constraint')]\n",
      "org-76.txt: [('article', 'delf'), ('delf', 'intricacy'), ('intricacy', 'adaptive'), ('adaptive', 'fuzzy'), ('fuzzy', 'eventtriggered'), ('eventtriggered', 'formation'), ('formation', 'tracking'), ('tracking', 'control'), ('control', 'nonholonomic'), ('nonholonomic', 'multirobot'), ('multirobot', 'system'), ('system', 'characterized'), ('characterized', 'infinite'), ('infinite', 'actuator'), ('actuator', 'fault'), ('fault', 'range'), ('range', 'constraint')]\n",
      "\n",
      "Similarity detected:\n",
      "FID-1.txt sentence 3 vs org-76.txt sentence 2: 100.0%\n",
      "FID-1.txt: [('address', 'issue'), ('issue', 'leverage'), ('leverage', 'power'), ('power', 'fuzzy'), ('fuzzy', 'logic'), ('logic', 'system'), ('system', 'fl'), ('fl', 'employ'), ('employ', 'adaptive'), ('adaptive', 'method'), ('method', 'approximate'), ('approximate', 'unknown'), ('unknown', 'nonlinear'), ('nonlinear', 'function'), ('function', 'uncertain'), ('uncertain', 'parameter'), ('parameter', 'present'), ('present', 'robotic'), ('robotic', 'dynamic')]\n",
      "org-76.txt: [('address', 'issue'), ('issue', 'leverage'), ('leverage', 'power'), ('power', 'fuzzy'), ('fuzzy', 'logic'), ('logic', 'system'), ('system', 'fl'), ('fl', 'employ'), ('employ', 'adaptive'), ('adaptive', 'method'), ('method', 'approximate'), ('approximate', 'unknown'), ('unknown', 'nonlinear'), ('nonlinear', 'function'), ('function', 'uncertain'), ('uncertain', 'parameter'), ('parameter', 'present'), ('present', 'robotic'), ('robotic', 'dynamic')]\n",
      "\n",
      "Similarity detected:\n",
      "FID-1.txt sentence 4 vs org-76.txt sentence 3: 100.0%\n",
      "FID-1.txt: [('course', 'information'), ('information', 'exploration'), ('exploration', 'problem'), ('problem', 'collision'), ('collision', 'avoidance'), ('avoidance', 'connectivity'), ('connectivity', 'maintenance'), ('maintenance', 'ever'), ('ever', 'present'), ('present', 'due'), ('due', 'limitation'), ('limitation', 'distance'), ('distance', 'visual'), ('visual', 'field')]\n",
      "org-76.txt: [('course', 'information'), ('information', 'exploration'), ('exploration', 'problem'), ('problem', 'collision'), ('collision', 'avoidance'), ('avoidance', 'connectivity'), ('connectivity', 'maintenance'), ('maintenance', 'ever'), ('ever', 'present'), ('present', 'due'), ('due', 'limitation'), ('limitation', 'distance'), ('distance', 'visual'), ('visual', 'field')]\n",
      "\n",
      "Similarity detected:\n",
      "FID-1.txt sentence 6 vs org-76.txt sentence 5: 100.0%\n",
      "FID-1.txt: [('furthermore', 'reduce'), ('reduce', 'number'), ('number', 'controller'), ('controller', 'execution'), ('execution', 'compensate'), ('compensate', 'effect'), ('effect', 'arising'), ('arising', 'infinite'), ('infinite', 'actuator'), ('actuator', 'failure'), ('failure', 'robot'), ('robot', 'engage'), ('engage', 'leader'), ('leader', 'moment'), ('moment', 'actuator'), ('actuator', 'fault'), ('fault', 'using'), ('using', 'fewer'), ('fewer', 'network'), ('network', 'communication'), ('communication', 'resource'), ('resource', 'yet'), ('yet', 'maintain'), ('maintain', 'uninterrupted'), ('uninterrupted', 'tracking'), ('tracking', 'desired'), ('desired', 'trajectory'), ('trajectory', 'generated'), ('generated', 'leader')]\n",
      "org-76.txt: [('furthermore', 'reduce'), ('reduce', 'number'), ('number', 'controller'), ('controller', 'execution'), ('execution', 'compensate'), ('compensate', 'effect'), ('effect', 'arising'), ('arising', 'infinite'), ('infinite', 'actuator'), ('actuator', 'failure'), ('failure', 'robot'), ('robot', 'engage'), ('engage', 'leader'), ('leader', 'moment'), ('moment', 'actuator'), ('actuator', 'fault'), ('fault', 'using'), ('using', 'fewer'), ('fewer', 'network'), ('network', 'communication'), ('communication', 'resource'), ('resource', 'yet'), ('yet', 'maintain'), ('maintain', 'uninterrupted'), ('uninterrupted', 'tracking'), ('tracking', 'desired'), ('desired', 'trajectory'), ('trajectory', 'generated'), ('generated', 'leader')]\n",
      "\n",
      "Similarity detected:\n",
      "FID-1.txt sentence 7 vs org-76.txt sentence 7: 100.0%\n",
      "FID-1.txt: [('guarantee', 'signal'), ('signal', 'semiglobal'), ('semiglobal', 'uniformly'), ('uniformly', 'ultimately'), ('ultimately', 'bounded'), ('bounded', 'sguub')]\n",
      "org-76.txt: [('guarantee', 'signal'), ('signal', 'semiglobal'), ('semiglobal', 'uniformly'), ('uniformly', 'ultimately'), ('ultimately', 'bounded'), ('bounded', 'sguub')]\n",
      "\n",
      "Similarity detected:\n",
      "FID-1.txt sentence 8 vs org-76.txt sentence 8: 93.09%\n",
      "FID-1.txt: [('ultimately', 'demonstrate'), ('demonstrate', 'practical'), ('practical', 'feasibility'), ('feasibility', 'etft'), ('etft', 'control'), ('control', 'strategy'), ('strategy', 'nonholonomic'), ('nonholonomic', 'multirobot'), ('multirobot', 'systemsthe'), ('systemsthe', 'experiment'), ('experiment', 'show'), ('show', 'precision'), ('precision', 'recall'), ('recall', 'rate'), ('rate', 'method'), ('method', 'significantly'), ('significantly', 'higher'), ('higher', 'method'), ('method', 'based'), ('based', 'falsesame'), ('falsesame', 'rate'), ('rate', 'method'), ('method', 'based'), ('based', 'falsesame'), ('falsesame', 'rate'), ('rate', 'rightsame'), ('rightsame', 'rate'), ('rate', 'method'), ('method', 'based'), ('based', 'personfit'), ('personfit', 'index')]\n",
      "org-76.txt: [('ultimately', 'demonstrate'), ('demonstrate', 'practical'), ('practical', 'feasibility'), ('feasibility', 'etft'), ('etft', 'control'), ('control', 'strategy'), ('strategy', 'nonholonomic'), ('nonholonomic', 'multirobot'), ('multirobot', 'system')]\n",
      "\n",
      "Similarity detected:\n",
      "FID-1.txt sentence 3 vs org-78.txt sentence 3: 50.95%\n",
      "FID-1.txt: [('address', 'issue'), ('issue', 'leverage'), ('leverage', 'power'), ('power', 'fuzzy'), ('fuzzy', 'logic'), ('logic', 'system'), ('system', 'fl'), ('fl', 'employ'), ('employ', 'adaptive'), ('adaptive', 'method'), ('method', 'approximate'), ('approximate', 'unknown'), ('unknown', 'nonlinear'), ('nonlinear', 'function'), ('function', 'uncertain'), ('uncertain', 'parameter'), ('parameter', 'present'), ('present', 'robotic'), ('robotic', 'dynamic')]\n",
      "org-78.txt: [('article', 'propose'), ('propose', 'comparative'), ('comparative', 'analysis'), ('analysis', 'previous'), ('previous', 'approach'), ('approach', 'one'), ('one', 'using'), ('using', 'fuzzy'), ('fuzzy', 'logic')]\n",
      "\n"
     ]
    }
   ],
   "source": [
    "# loop through the test data and calculate the cosine similarity\n",
    "for i in range(len(mat_train)):\n",
    "    for j in range(len(mat_test)):\n",
    "        cosine_similarity = pairwise.cosine_similarity([mat_test[j]], [mat_train[i]])\n",
    "        if cosine_similarity[0][0] > 0.5:\n",
    "            print(f\"Similarity detected:\\nFID-{(test_enum[j][0])+1}.txt sentence {(test_enum[j][1]+1)} vs org-{(train_enum[i][0])+1}.txt sentence {(train_enum[i][1])+1}: {round((cosine_similarity[0][0])*100, 2)}%\")\n",
    "            print(f\"FID-{(test_enum[j][0])+1}.txt: {test_sentences[j]}\")\n",
    "            print(f\"org-{(train_enum[i][0])+1}.txt: {train_sentences[i]}\")\n",
    "            print()"
   ]
  }
 ],
 "metadata": {
  "kernelspec": {
   "display_name": "Python 3",
   "language": "python",
   "name": "python3"
  },
  "language_info": {
   "codemirror_mode": {
    "name": "ipython",
    "version": 3
   },
   "file_extension": ".py",
   "mimetype": "text/x-python",
   "name": "python",
   "nbconvert_exporter": "python",
   "pygments_lexer": "ipython3",
   "version": "3.9.6"
  }
 },
 "nbformat": 4,
 "nbformat_minor": 2
}
