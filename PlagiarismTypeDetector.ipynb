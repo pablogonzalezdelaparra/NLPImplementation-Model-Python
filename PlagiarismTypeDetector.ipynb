{
  "cells": [
    {
      "cell_type": "code",
      "execution_count": 1,
      "metadata": {
        "id": "BKPsmxNkfrJQ"
      },
      "outputs": [
        {
          "name": "stderr",
          "output_type": "stream",
          "text": [
            "/Users/pablogdlp/Library/Python/3.9/lib/python/site-packages/urllib3/__init__.py:34: NotOpenSSLWarning: urllib3 v2.0 only supports OpenSSL 1.1.1+, currently the 'ssl' module is compiled with 'LibreSSL 2.8.3'. See: https://github.com/urllib3/urllib3/issues/3020\n",
            "  warnings.warn(\n"
          ]
        }
      ],
      "source": [
        "# Import libraries\n",
        "import pandas as pd\n",
        "import tensorflow as tf\n",
        "from keras.models import Model\n",
        "from keras.layers import Input, Embedding, LSTM, Dense, BatchNormalization, Dropout\n",
        "from keras.callbacks import EarlyStopping\n",
        "from keras.preprocessing.text import Tokenizer\n",
        "from keras.preprocessing.sequence import pad_sequences"
      ]
    },
    {
      "cell_type": "code",
      "execution_count": 2,
      "metadata": {
        "id": "79dXdeZXNmcI"
      },
      "outputs": [],
      "source": [
        "# Load data\n",
        "data = pd.read_csv('data.csv')\n",
        "data = data.sample(frac=1).reset_index(drop=True)"
      ]
    },
    {
      "cell_type": "code",
      "execution_count": 3,
      "metadata": {},
      "outputs": [
        {
          "name": "stdout",
          "output_type": "stream",
          "text": [
            "plagiarized        0\n",
            "original           0\n",
            "plagiarism_type    0\n",
            "dtype: int64\n"
          ]
        },
        {
          "data": {
            "text/html": [
              "<div>\n",
              "<style scoped>\n",
              "    .dataframe tbody tr th:only-of-type {\n",
              "        vertical-align: middle;\n",
              "    }\n",
              "\n",
              "    .dataframe tbody tr th {\n",
              "        vertical-align: top;\n",
              "    }\n",
              "\n",
              "    .dataframe thead th {\n",
              "        text-align: right;\n",
              "    }\n",
              "</style>\n",
              "<table border=\"1\" class=\"dataframe\">\n",
              "  <thead>\n",
              "    <tr style=\"text-align: right;\">\n",
              "      <th></th>\n",
              "      <th>plagiarized</th>\n",
              "      <th>original</th>\n",
              "      <th>plagiarism_type</th>\n",
              "    </tr>\n",
              "  </thead>\n",
              "  <tbody>\n",
              "    <tr>\n",
              "      <th>0</th>\n",
              "      <td>and computer vision algorithms in emotion dete...</td>\n",
              "      <td>This paper introduces a study employing artifi...</td>\n",
              "      <td>1</td>\n",
              "    </tr>\n",
              "    <tr>\n",
              "      <th>1</th>\n",
              "      <td>Within paradoxical videogame representations o...</td>\n",
              "      <td>International relations scholarship has long e...</td>\n",
              "      <td>1</td>\n",
              "    </tr>\n",
              "    <tr>\n",
              "      <th>2</th>\n",
              "      <td>The controversy surrounding the use of exergam...</td>\n",
              "      <td>﻿Whether the application of exergames in physi...</td>\n",
              "      <td>2</td>\n",
              "    </tr>\n",
              "    <tr>\n",
              "      <th>3</th>\n",
              "      <td>This study investigates the ethical dilemmas a...</td>\n",
              "      <td>This study examines the ethical challenges and...</td>\n",
              "      <td>2</td>\n",
              "    </tr>\n",
              "    <tr>\n",
              "      <th>4</th>\n",
              "      <td>Purpose: The general purpose of the study was ...</td>\n",
              "      <td>Purpose: The general purpose of the study was ...</td>\n",
              "      <td>0</td>\n",
              "    </tr>\n",
              "    <tr>\n",
              "      <th>...</th>\n",
              "      <td>...</td>\n",
              "      <td>...</td>\n",
              "      <td>...</td>\n",
              "    </tr>\n",
              "    <tr>\n",
              "      <th>655</th>\n",
              "      <td>Recent technological developments have enabled...</td>\n",
              "      <td>Recent technological developments have enabled...</td>\n",
              "      <td>0</td>\n",
              "    </tr>\n",
              "    <tr>\n",
              "      <th>656</th>\n",
              "      <td>The application of Artificial Intelligence (AI...</td>\n",
              "      <td>The application of Artificial Intelligence (AI...</td>\n",
              "      <td>0</td>\n",
              "    </tr>\n",
              "    <tr>\n",
              "      <th>657</th>\n",
              "      <td>Advancements in technology have allowed comput...</td>\n",
              "      <td>Recent technological developments have enabled...</td>\n",
              "      <td>2</td>\n",
              "    </tr>\n",
              "    <tr>\n",
              "      <th>658</th>\n",
              "      <td>The performance of photovoltaic (PV) systems i...</td>\n",
              "      <td>﻿The performance of photovoltaic (PV) affected...</td>\n",
              "      <td>2</td>\n",
              "    </tr>\n",
              "    <tr>\n",
              "      <th>659</th>\n",
              "      <td>Empathy computing is an emerging research fiel...</td>\n",
              "      <td>Empathy computing is an emerging research fiel...</td>\n",
              "      <td>1</td>\n",
              "    </tr>\n",
              "  </tbody>\n",
              "</table>\n",
              "<p>660 rows × 3 columns</p>\n",
              "</div>"
            ],
            "text/plain": [
              "                                           plagiarized  \\\n",
              "0    and computer vision algorithms in emotion dete...   \n",
              "1    Within paradoxical videogame representations o...   \n",
              "2    The controversy surrounding the use of exergam...   \n",
              "3    This study investigates the ethical dilemmas a...   \n",
              "4    Purpose: The general purpose of the study was ...   \n",
              "..                                                 ...   \n",
              "655  Recent technological developments have enabled...   \n",
              "656  The application of Artificial Intelligence (AI...   \n",
              "657  Advancements in technology have allowed comput...   \n",
              "658  The performance of photovoltaic (PV) systems i...   \n",
              "659  Empathy computing is an emerging research fiel...   \n",
              "\n",
              "                                              original  plagiarism_type  \n",
              "0    This paper introduces a study employing artifi...                1  \n",
              "1    International relations scholarship has long e...                1  \n",
              "2    ﻿Whether the application of exergames in physi...                2  \n",
              "3    This study examines the ethical challenges and...                2  \n",
              "4    Purpose: The general purpose of the study was ...                0  \n",
              "..                                                 ...              ...  \n",
              "655  Recent technological developments have enabled...                0  \n",
              "656  The application of Artificial Intelligence (AI...                0  \n",
              "657  Recent technological developments have enabled...                2  \n",
              "658  ﻿The performance of photovoltaic (PV) affected...                2  \n",
              "659  Empathy computing is an emerging research fiel...                1  \n",
              "\n",
              "[660 rows x 3 columns]"
            ]
          },
          "execution_count": 3,
          "metadata": {},
          "output_type": "execute_result"
        }
      ],
      "source": [
        "# Preprocess data\n",
        "print(data.isna().sum())\n",
        "data.dropna(inplace=True)\n",
        "data"
      ]
    },
    {
      "cell_type": "code",
      "execution_count": 4,
      "metadata": {},
      "outputs": [],
      "source": [
        "# Load test data\n",
        "test_data = pd.read_csv('test_data.csv')\n",
        "test_data = test_data.sample(frac=1).reset_index(drop=True)"
      ]
    },
    {
      "cell_type": "code",
      "execution_count": 5,
      "metadata": {},
      "outputs": [
        {
          "name": "stdout",
          "output_type": "stream",
          "text": [
            "plagiarized        0\n",
            "original           0\n",
            "plagiarism_type    0\n",
            "dtype: int64\n"
          ]
        },
        {
          "data": {
            "text/html": [
              "<div>\n",
              "<style scoped>\n",
              "    .dataframe tbody tr th:only-of-type {\n",
              "        vertical-align: middle;\n",
              "    }\n",
              "\n",
              "    .dataframe tbody tr th {\n",
              "        vertical-align: top;\n",
              "    }\n",
              "\n",
              "    .dataframe thead th {\n",
              "        text-align: right;\n",
              "    }\n",
              "</style>\n",
              "<table border=\"1\" class=\"dataframe\">\n",
              "  <thead>\n",
              "    <tr style=\"text-align: right;\">\n",
              "      <th></th>\n",
              "      <th>plagiarized</th>\n",
              "      <th>original</th>\n",
              "      <th>plagiarism_type</th>\n",
              "    </tr>\n",
              "  </thead>\n",
              "  <tbody>\n",
              "    <tr>\n",
              "      <th>0</th>\n",
              "      <td>Drug designing and development represent cruci...</td>\n",
              "      <td>Drug designing and development is an important...</td>\n",
              "      <td>2</td>\n",
              "    </tr>\n",
              "    <tr>\n",
              "      <th>1</th>\n",
              "      <td>At present, the application of Artificial Inte...</td>\n",
              "      <td>At present, the application of Artificial Inte...</td>\n",
              "      <td>1</td>\n",
              "    </tr>\n",
              "    <tr>\n",
              "      <th>2</th>\n",
              "      <td>Interactive software agents, such as chatbots,...</td>\n",
              "      <td>Interactive software agents, such as chatbots,...</td>\n",
              "      <td>1</td>\n",
              "    </tr>\n",
              "    <tr>\n",
              "      <th>3</th>\n",
              "      <td>Machine learning (ML) is a form of artificial ...</td>\n",
              "      <td>Machine learning (ML) is a form of artificial ...</td>\n",
              "      <td>0</td>\n",
              "    </tr>\n",
              "    <tr>\n",
              "      <th>4</th>\n",
              "      <td>This article delves into the intricacies of ad...</td>\n",
              "      <td>This article delves into the intricacies of ad...</td>\n",
              "      <td>0</td>\n",
              "    </tr>\n",
              "    <tr>\n",
              "      <th>5</th>\n",
              "      <td>The utilization of Artificial Intelligence (AI...</td>\n",
              "      <td>The sphere of artificial intelligence (AI) tec...</td>\n",
              "      <td>2</td>\n",
              "    </tr>\n",
              "  </tbody>\n",
              "</table>\n",
              "</div>"
            ],
            "text/plain": [
              "                                         plagiarized  \\\n",
              "0  Drug designing and development represent cruci...   \n",
              "1  At present, the application of Artificial Inte...   \n",
              "2  Interactive software agents, such as chatbots,...   \n",
              "3  Machine learning (ML) is a form of artificial ...   \n",
              "4  This article delves into the intricacies of ad...   \n",
              "5  The utilization of Artificial Intelligence (AI...   \n",
              "\n",
              "                                            original  plagiarism_type  \n",
              "0  Drug designing and development is an important...                2  \n",
              "1  At present, the application of Artificial Inte...                1  \n",
              "2  Interactive software agents, such as chatbots,...                1  \n",
              "3  Machine learning (ML) is a form of artificial ...                0  \n",
              "4  This article delves into the intricacies of ad...                0  \n",
              "5  The sphere of artificial intelligence (AI) tec...                2  "
            ]
          },
          "execution_count": 5,
          "metadata": {},
          "output_type": "execute_result"
        }
      ],
      "source": [
        "# Preprocess test data\n",
        "print(test_data.isna().sum())\n",
        "test_data.dropna(inplace=True)\n",
        "test_data"
      ]
    },
    {
      "cell_type": "code",
      "execution_count": 6,
      "metadata": {
        "id": "XBC961bCOeMc"
      },
      "outputs": [],
      "source": [
        "# Assign data to variables\n",
        "plagiarized_texts = data['plagiarized']\n",
        "original_texts = data['original']\n",
        "labels = data['plagiarism_type']"
      ]
    },
    {
      "cell_type": "code",
      "execution_count": 7,
      "metadata": {},
      "outputs": [],
      "source": [
        "# Assign test data to variables\n",
        "test_plagiarized_texts = test_data['plagiarized']\n",
        "test_original_texts = test_data['original']\n",
        "test_labels = test_data['plagiarism_type']"
      ]
    },
    {
      "cell_type": "code",
      "execution_count": 8,
      "metadata": {
        "id": "llfmq_g8OlzI"
      },
      "outputs": [],
      "source": [
        "# Fill missing values\n",
        "plagiarized_texts = plagiarized_texts.fillna('')\n",
        "original_texts = original_texts.fillna('')"
      ]
    },
    {
      "cell_type": "code",
      "execution_count": 9,
      "metadata": {},
      "outputs": [],
      "source": [
        "# Fill missing test values\n",
        "test_plagiarized_texts = test_plagiarized_texts.fillna('')\n",
        "test_original_texts = test_original_texts.fillna('')"
      ]
    },
    {
      "cell_type": "code",
      "execution_count": 10,
      "metadata": {
        "id": "VBrZiejmOsHJ"
      },
      "outputs": [],
      "source": [
        "# Define parameters\n",
        "max_sequence_length = 800\n",
        "embedding_dim = 300\n",
        "num_classes = 3"
      ]
    },
    {
      "cell_type": "code",
      "execution_count": 11,
      "metadata": {},
      "outputs": [
        {
          "data": {
            "text/plain": [
              "\"and computer vision algorithms in emotion detection, providing insights into software development, ongoing training, and the evolving landscape of emotion recognition technology. The research aims to unveil the creation of software capable of emotion detection by leveraging AI algorithms and image processing pipelines to identify users' facial expressions. The process involves assessing users through images and facilitating the implementation of computer vision algorithms aligned with psychological theories defining emotions and their recognizable features. The study demonstrates the feasibility of emotion recognition through convolutional neural networks (CNN) and software development and training based on facial expressions. Further training is necessary for contexts with more diverse images, alongside additional algorithms that can effectively distinguish between facial expressions depicting closely related emotional patterns, enhancing certainty and accuracy. The discussion and conclusions emphasize the potential of A.I. The results highlight successful emotion identification; however, precision improvement necessitates further training for contexts with more diverse images and additional algorithms to distinguish closely related emotional patterns. This paper introduces a study employing artificial intelligence (AI) to utilize computer vision algorithms for detecting human emotions in video content during user interactions with diverse visual stimuli. This paper introduces a study employing artificial intelligence (AI) to utilize computer vision algorithms for detecting human emotions in video content during user interactions with diverse visual stimuli. The research aims to unveil the creation of software capable of emotion detection by leveraging AI algorithms and image processing pipelines to identify users' facial expressions. The process involves assessing users through images and facilitating the implementation of computer vision algorithms aligned with psychological theories defining emotions and their recognizable features. The study demonstrates the feasibility of emotion recognition through convolutional neural networks (CNN) and software development and training based on facial expressions. The results highlight successful emotion identification; however, precision improvement necessitates further training for contexts with more diverse images and additional algorithms to distinguish closely related emotional patterns. The discussion and conclusions emphasize the potential of A.I. and computer vision algorithms in emotion detection, providing insights into software development, ongoing training, and the evolving landscape of emotion recognition technology. Further training is necessary for contexts with more diverse images, alongside additional algorithms that can effectively distinguish between facial expressions depicting closely related emotional patterns, enhancing certainty and accuracy.\""
            ]
          },
          "execution_count": 11,
          "metadata": {},
          "output_type": "execute_result"
        }
      ],
      "source": [
        "# Combine texts\n",
        "texts = (plagiarized_texts + ' ' + original_texts).astype(str)\n",
        "texts[0]"
      ]
    },
    {
      "cell_type": "code",
      "execution_count": 12,
      "metadata": {
        "id": "gSpYva4lO5Jg"
      },
      "outputs": [],
      "source": [
        "# Tokenize texts\n",
        "tokens = [word for sentence in texts for word in sentence.split()]"
      ]
    },
    {
      "cell_type": "code",
      "execution_count": 13,
      "metadata": {
        "colab": {
          "base_uri": "https://localhost:8080/"
        },
        "id": "gUPwWpLDPFUb",
        "outputId": "71ea4df6-6b79-4d30-f6bf-c94f8de720ba"
      },
      "outputs": [
        {
          "data": {
            "text/plain": [
              "8405"
            ]
          },
          "execution_count": 13,
          "metadata": {},
          "output_type": "execute_result"
        }
      ],
      "source": [
        "# Get vocabulary size\n",
        "vocabulary_size = len(set(tokens))\n",
        "vocabulary_size"
      ]
    },
    {
      "cell_type": "code",
      "execution_count": 14,
      "metadata": {
        "id": "Jg7Z1C4WPSCX"
      },
      "outputs": [],
      "source": [
        "# Tokenize texts\n",
        "tokenizer = Tokenizer(num_words=vocabulary_size)\n",
        "tokenizer.fit_on_texts(texts)"
      ]
    },
    {
      "cell_type": "code",
      "execution_count": 15,
      "metadata": {
        "id": "bdbIjHNvRjXM"
      },
      "outputs": [],
      "source": [
        "# Convert texts to sequences and pad them\n",
        "sequences_plagiarized = tokenizer.texts_to_sequences(plagiarized_texts)\n",
        "sequences_original = tokenizer.texts_to_sequences(original_texts)\n",
        "padded_sequences_plagiarized = pad_sequences(sequences_plagiarized, maxlen=max_sequence_length)\n",
        "padded_sequences_original = pad_sequences(sequences_original, maxlen=max_sequence_length)"
      ]
    },
    {
      "cell_type": "code",
      "execution_count": 16,
      "metadata": {},
      "outputs": [],
      "source": [
        "# Convert test texts to sequences and pad them\n",
        "test_sequences_plagiarized = tokenizer.texts_to_sequences(test_plagiarized_texts)\n",
        "test_sequences_original = tokenizer.texts_to_sequences(test_original_texts)\n",
        "test_padded_sequences_plagiarized = pad_sequences(test_sequences_plagiarized, maxlen=max_sequence_length)\n",
        "test_padded_sequences_original = pad_sequences(test_sequences_original, maxlen=max_sequence_length)"
      ]
    },
    {
      "cell_type": "code",
      "execution_count": 17,
      "metadata": {
        "colab": {
          "base_uri": "https://localhost:8080/"
        },
        "id": "pW56IBpRUhDM",
        "outputId": "f2ab36ca-b055-4f0d-933a-7697cc35a12d"
      },
      "outputs": [
        {
          "data": {
            "text/plain": [
              "\"\\ninput_layer1 = Input(shape=(max_sequence_length,))\\ninput_layer2 = Input(shape=(max_sequence_length,))\\n\\nembedding_layer = Embedding(input_dim=vocabulary_size, output_dim=embedding_dim)\\n\\nlstm_layer = LSTM(units=50)\\n\\nx1 = embedding_layer(input_layer1)\\nx1 = lstm_layer(x1)\\n\\nx2 = embedding_layer(input_layer2)\\nx2 = lstm_layer(x2)\\n\\ndistance_layer = Lambda(lambda x: tf.keras.backend.abs(x[0] - x[1]),\\n                        output_shape=lambda _: (1,))([x1, x2])\\n\\noutput_layer = Dense(num_classes, activation='softmax')(distance_layer)\\n\\nmodel = Model(inputs=[input_layer1, input_layer2], outputs=output_layer)\\n\\nmodel.compile(optimizer=Adam(0.001), loss='sparse_categorical_crossentropy', metrics=['accuracy'])\\n\\ncallbacks = [\\n    EarlyStopping(monitor='val_loss', patience=2, restore_best_weights=True),\\n]\\n\""
            ]
          },
          "execution_count": 17,
          "metadata": {},
          "output_type": "execute_result"
        }
      ],
      "source": [
        "# Define model (First version)\n",
        "\"\"\"\n",
        "input_layer1 = Input(shape=(max_sequence_length,))\n",
        "input_layer2 = Input(shape=(max_sequence_length,))\n",
        "\n",
        "embedding_layer = Embedding(input_dim=vocabulary_size, output_dim=embedding_dim)\n",
        "\n",
        "lstm_layer = LSTM(units=50)\n",
        "\n",
        "x1 = embedding_layer(input_layer1)\n",
        "x1 = lstm_layer(x1)\n",
        "\n",
        "x2 = embedding_layer(input_layer2)\n",
        "x2 = lstm_layer(x2)\n",
        "\n",
        "distance_layer = Lambda(lambda x: tf.keras.backend.abs(x[0] - x[1]),\n",
        "                        output_shape=lambda _: (1,))([x1, x2])\n",
        "\n",
        "output_layer = Dense(num_classes, activation='softmax')(distance_layer)\n",
        "\n",
        "model = Model(inputs=[input_layer1, input_layer2], outputs=output_layer)\n",
        "\n",
        "model.compile(optimizer=Adam(0.001), loss='sparse_categorical_crossentropy', metrics=['accuracy'])\n",
        "\n",
        "callbacks = [\n",
        "    EarlyStopping(monitor='val_loss', patience=2, restore_best_weights=True),\n",
        "]\n",
        "\"\"\""
      ]
    },
    {
      "cell_type": "code",
      "execution_count": 18,
      "metadata": {},
      "outputs": [
        {
          "data": {
            "text/plain": [
              "\"\\nfrom keras.layers import LSTM, Embedding, Dense, Input, Concatenate, Dropout # type: ignore\\n\\n# Define model\\ninput_layer1 = Input(shape=(max_sequence_length,))\\ninput_layer2 = Input(shape=(max_sequence_length,))\\n\\nembedding_layer = Embedding(input_dim=vocabulary_size, output_dim=embedding_dim)\\n\\n# First LSTM layer\\nlstm_layer1 = LSTM(units=100, return_sequences=True)\\nx1 = embedding_layer(input_layer1)\\nx1 = lstm_layer1(x1)\\n\\n# Second LSTM layer\\nlstm_layer2 = LSTM(units=50)\\nx1 = lstm_layer2(x1)\\n\\n# Repeat for the second input\\nx2 = embedding_layer(input_layer2)\\nx2 = lstm_layer1(x2)\\nx2 = lstm_layer2(x2)\\n\\n# Concatenate the LSTM outputs\\nconcatenated = Concatenate()([x1, x2])\\n\\n# Add additional layers for processing\\nx = Dense(128, activation='relu')(concatenated)\\nx = Dropout(0.5)(x)\\n\\noutput_layer = Dense(num_classes, activation='softmax')(x)\\n\\nmodel = Model(inputs=[input_layer1, input_layer2], outputs=output_layer)\\n\\nmodel.compile(optimizer='adam', loss='sparse_categorical_crossentropy', metrics=['accuracy'])\\n\\ncallbacks = [\\n    EarlyStopping(monitor='val_loss', patience=5, restore_best_weights=True),\\n]\\n\\nmodel.summary()\\n\""
            ]
          },
          "execution_count": 18,
          "metadata": {},
          "output_type": "execute_result"
        }
      ],
      "source": [
        "# Define model (Second version)\n",
        "\"\"\"\n",
        "from keras.layers import LSTM, Embedding, Dense, Input, Concatenate, Dropout # type: ignore\n",
        "\n",
        "# Define model\n",
        "input_layer1 = Input(shape=(max_sequence_length,))\n",
        "input_layer2 = Input(shape=(max_sequence_length,))\n",
        "\n",
        "embedding_layer = Embedding(input_dim=vocabulary_size, output_dim=embedding_dim)\n",
        "\n",
        "# First LSTM layer\n",
        "lstm_layer1 = LSTM(units=100, return_sequences=True)\n",
        "x1 = embedding_layer(input_layer1)\n",
        "x1 = lstm_layer1(x1)\n",
        "\n",
        "# Second LSTM layer\n",
        "lstm_layer2 = LSTM(units=50)\n",
        "x1 = lstm_layer2(x1)\n",
        "\n",
        "# Repeat for the second input\n",
        "x2 = embedding_layer(input_layer2)\n",
        "x2 = lstm_layer1(x2)\n",
        "x2 = lstm_layer2(x2)\n",
        "\n",
        "# Concatenate the LSTM outputs\n",
        "concatenated = Concatenate()([x1, x2])\n",
        "\n",
        "# Add additional layers for processing\n",
        "x = Dense(128, activation='relu')(concatenated)\n",
        "x = Dropout(0.5)(x)\n",
        "\n",
        "output_layer = Dense(num_classes, activation='softmax')(x)\n",
        "\n",
        "model = Model(inputs=[input_layer1, input_layer2], outputs=output_layer)\n",
        "\n",
        "model.compile(optimizer='adam', loss='sparse_categorical_crossentropy', metrics=['accuracy'])\n",
        "\n",
        "callbacks = [\n",
        "    EarlyStopping(monitor='val_loss', patience=5, restore_best_weights=True),\n",
        "]\n",
        "\n",
        "model.summary()\n",
        "\"\"\""
      ]
    },
    {
      "cell_type": "code",
      "execution_count": 19,
      "metadata": {},
      "outputs": [],
      "source": [
        "# Define model (Third version)\n",
        "\n",
        "# Define the model architecture\n",
        "input_plagiarized = Input(shape=(max_sequence_length,))\n",
        "input_original = Input(shape=(max_sequence_length,))\n",
        "\n",
        "# Embedding layer\n",
        "embedding_layer = Embedding(input_dim=vocabulary_size, output_dim=embedding_dim)\n",
        "\n",
        "# Embedding sequences\n",
        "embedded_plagiarized = embedding_layer(input_plagiarized)\n",
        "embedded_original = embedding_layer(input_original)\n",
        "\n",
        "# LSTM layers\n",
        "lstm_layer = LSTM(128, return_sequences=True)\n",
        "\n",
        "lstm_output_plagiarized = lstm_layer(embedded_plagiarized)\n",
        "lstm_output_original = lstm_layer(embedded_original)\n",
        "\n",
        "# Attention mechanism\n",
        "attention = Dense(1, activation='tanh')\n",
        "attention_scores_original = attention(lstm_output_original)\n",
        "attention_scores_plagiarized = attention(lstm_output_plagiarized)\n",
        "attention_weights_original = tf.keras.layers.Softmax(axis=1)(attention_scores_original)\n",
        "attention_weights_plagiarized = tf.keras.layers.Softmax(axis=1)(attention_scores_plagiarized)\n",
        "context_original = tf.keras.layers.Dot(axes=1)([attention_weights_original, lstm_output_original])\n",
        "context_plagiarized = tf.keras.layers.Dot(axes=1)([attention_weights_plagiarized, lstm_output_plagiarized])\n",
        "\n",
        "# Concatenate attention context with original and plagiarized LSTM outputs\n",
        "merged_output = tf.keras.layers.Concatenate(axis=-1)([context_original, context_plagiarized])\n",
        "\n",
        "# Dropout for regularization\n",
        "dropout_layer = Dropout(0.5)\n",
        "merged_output = dropout_layer(merged_output)\n",
        "\n",
        "# Batch normalization for stability\n",
        "batch_norm_layer = BatchNormalization()\n",
        "merged_output = batch_norm_layer(merged_output)\n",
        "\n",
        "# Dense layer for classification\n",
        "output = Dense(num_classes, activation='softmax')(merged_output)\n",
        "\n",
        "# Model\n",
        "model = Model(inputs=[input_original, input_plagiarized], outputs=output)\n",
        "\n",
        "# Compile the model\n",
        "model.compile(optimizer='adam', loss='sparse_categorical_crossentropy', metrics=['accuracy'])"
      ]
    },
    {
      "cell_type": "code",
      "execution_count": 20,
      "metadata": {
        "colab": {
          "base_uri": "https://localhost:8080/"
        },
        "id": "ii6hTkO0cFBF",
        "outputId": "71c07100-ac7a-4091-bb54-b7d5ab8e7ef5"
      },
      "outputs": [
        {
          "name": "stdout",
          "output_type": "stream",
          "text": [
            "Model: \"model\"\n",
            "__________________________________________________________________________________________________\n",
            " Layer (type)                Output Shape                 Param #   Connected to                  \n",
            "==================================================================================================\n",
            " input_2 (InputLayer)        [(None, 800)]                0         []                            \n",
            "                                                                                                  \n",
            " input_1 (InputLayer)        [(None, 800)]                0         []                            \n",
            "                                                                                                  \n",
            " embedding (Embedding)       (None, 800, 300)             2521500   ['input_1[0][0]',             \n",
            "                                                                     'input_2[0][0]']             \n",
            "                                                                                                  \n",
            " lstm (LSTM)                 (None, 800, 128)             219648    ['embedding[0][0]',           \n",
            "                                                                     'embedding[1][0]']           \n",
            "                                                                                                  \n",
            " dense (Dense)               (None, 800, 1)               129       ['lstm[1][0]',                \n",
            "                                                                     'lstm[0][0]']                \n",
            "                                                                                                  \n",
            " softmax (Softmax)           (None, 800, 1)               0         ['dense[0][0]']               \n",
            "                                                                                                  \n",
            " softmax_1 (Softmax)         (None, 800, 1)               0         ['dense[1][0]']               \n",
            "                                                                                                  \n",
            " dot (Dot)                   (None, 1, 128)               0         ['softmax[0][0]',             \n",
            "                                                                     'lstm[1][0]']                \n",
            "                                                                                                  \n",
            " dot_1 (Dot)                 (None, 1, 128)               0         ['softmax_1[0][0]',           \n",
            "                                                                     'lstm[0][0]']                \n",
            "                                                                                                  \n",
            " concatenate (Concatenate)   (None, 1, 256)               0         ['dot[0][0]',                 \n",
            "                                                                     'dot_1[0][0]']               \n",
            "                                                                                                  \n",
            " dropout (Dropout)           (None, 1, 256)               0         ['concatenate[0][0]']         \n",
            "                                                                                                  \n",
            " batch_normalization (Batch  (None, 1, 256)               1024      ['dropout[0][0]']             \n",
            " Normalization)                                                                                   \n",
            "                                                                                                  \n",
            " dense_1 (Dense)             (None, 1, 3)                 771       ['batch_normalization[0][0]'] \n",
            "                                                                                                  \n",
            "==================================================================================================\n",
            "Total params: 2743072 (10.46 MB)\n",
            "Trainable params: 2742560 (10.46 MB)\n",
            "Non-trainable params: 512 (2.00 KB)\n",
            "__________________________________________________________________________________________________\n"
          ]
        }
      ],
      "source": [
        "# Show the model architecture\n",
        "model.summary()"
      ]
    },
    {
      "cell_type": "code",
      "execution_count": 21,
      "metadata": {},
      "outputs": [
        {
          "name": "stdout",
          "output_type": "stream",
          "text": [
            "Epoch 1/30\n",
            "17/17 [==============================] - 21s 1s/step - loss: 1.2656 - accuracy: 0.3561 - val_loss: 1.1000 - val_accuracy: 0.3182\n",
            "Epoch 2/30\n",
            "17/17 [==============================] - 18s 1s/step - loss: 1.1673 - accuracy: 0.3958 - val_loss: 1.0968 - val_accuracy: 0.4545\n",
            "Epoch 3/30\n",
            "17/17 [==============================] - 17s 1s/step - loss: 0.8163 - accuracy: 0.6004 - val_loss: 1.0660 - val_accuracy: 0.5303\n",
            "Epoch 4/30\n",
            "17/17 [==============================] - 17s 984ms/step - loss: 0.4944 - accuracy: 0.7898 - val_loss: 0.9239 - val_accuracy: 0.6667\n",
            "Epoch 5/30\n",
            "17/17 [==============================] - 17s 1s/step - loss: 0.1824 - accuracy: 0.9394 - val_loss: 0.8212 - val_accuracy: 0.6970\n",
            "Epoch 6/30\n",
            "17/17 [==============================] - 18s 1s/step - loss: 0.0878 - accuracy: 0.9754 - val_loss: 0.7384 - val_accuracy: 0.8712\n",
            "Epoch 7/30\n",
            "17/17 [==============================] - 21s 1s/step - loss: 0.0602 - accuracy: 0.9811 - val_loss: 0.6836 - val_accuracy: 0.8561\n",
            "Epoch 8/30\n",
            "17/17 [==============================] - 19s 1s/step - loss: 0.0440 - accuracy: 0.9924 - val_loss: 0.5989 - val_accuracy: 0.9091\n",
            "Epoch 9/30\n",
            "17/17 [==============================] - 20s 1s/step - loss: 0.0376 - accuracy: 0.9943 - val_loss: 0.5891 - val_accuracy: 0.8258\n",
            "Epoch 10/30\n",
            "17/17 [==============================] - 20s 1s/step - loss: 0.0341 - accuracy: 0.9924 - val_loss: 0.5462 - val_accuracy: 0.8864\n",
            "Epoch 11/30\n",
            "17/17 [==============================] - 20s 1s/step - loss: 0.0179 - accuracy: 0.9962 - val_loss: 0.4486 - val_accuracy: 0.8939\n",
            "Epoch 12/30\n",
            "17/17 [==============================] - 20s 1s/step - loss: 0.0134 - accuracy: 0.9981 - val_loss: 0.3795 - val_accuracy: 0.9015\n",
            "Epoch 13/30\n",
            "17/17 [==============================] - 19s 1s/step - loss: 0.0148 - accuracy: 0.9962 - val_loss: 0.3422 - val_accuracy: 0.9167\n",
            "Epoch 14/30\n",
            "17/17 [==============================] - 19s 1s/step - loss: 0.0831 - accuracy: 0.9867 - val_loss: 0.6189 - val_accuracy: 0.7576\n",
            "Epoch 15/30\n",
            "17/17 [==============================] - 22s 1s/step - loss: 0.0581 - accuracy: 0.9905 - val_loss: 0.6775 - val_accuracy: 0.7424\n"
          ]
        }
      ],
      "source": [
        "# Run the model\n",
        "history = model.fit([padded_sequences_original, padded_sequences_plagiarized], labels, epochs=30, \n",
        "                    batch_size=32, validation_split=0.2, callbacks=[EarlyStopping(patience=2)])"
      ]
    },
    {
      "cell_type": "code",
      "execution_count": 22,
      "metadata": {},
      "outputs": [
        {
          "data": {
            "image/png": "[encoded data removed]",
            "text/plain": [
              "<Figure size 640x480 with 1 Axes>"
            ]
          },
          "metadata": {},
          "output_type": "display_data"
        },
        {
          "data": {
            "image/png": "[encoded data removed]",
            "text/plain": [
              "<Figure size 640x480 with 1 Axes>"
            ]
          },
          "metadata": {},
          "output_type": "display_data"
        }
      ],
      "source": [
        "# Visualizar la precisión y la pérdida de entrenamiento y prueba\n",
        "import matplotlib.pyplot as plt\n",
        "\n",
        "def plot_graphs(history, string):\n",
        "  plt.plot(history.history[string])\n",
        "  plt.plot(history.history['val_'+string])\n",
        "  plt.legend([string, 'val_'+string])\n",
        "  plt.xlabel(\"Epochs\")\n",
        "  plt.ylabel(string)\n",
        "  plt.show()\n",
        "\n",
        "plot_graphs(history, \"accuracy\")\n",
        "plot_graphs(history, \"loss\")"
      ]
    },
    {
      "cell_type": "code",
      "execution_count": 23,
      "metadata": {},
      "outputs": [
        {
          "name": "stdout",
          "output_type": "stream",
          "text": [
            "1/1 [==============================] - 0s 228ms/step - loss: 1.2158 - accuracy: 0.3333\n"
          ]
        }
      ],
      "source": [
        "# Test the model\n",
        "test_loss, test_accuracy = model.evaluate([test_padded_sequences_original, test_padded_sequences_plagiarized], test_labels)"
      ]
    },
    {
      "cell_type": "code",
      "execution_count": 24,
      "metadata": {
        "id": "ESjzjNQ_WXEO"
      },
      "outputs": [],
      "source": [
        "# Preprocess function\n",
        "def preprocess(sentence):\n",
        "  sequence = pad_sequences(tokenizer.texts_to_sequences([sentence]), maxlen=max_sequence_length)\n",
        "  return sequence"
      ]
    },
    {
      "cell_type": "code",
      "execution_count": 25,
      "metadata": {
        "colab": {
          "base_uri": "https://localhost:8080/"
        },
        "id": "-QhKEarqWGgB",
        "outputId": "9c58f4f6-1c8e-484f-f4bb-ec6ef9a48499"
      },
      "outputs": [
        {
          "name": "stdout",
          "output_type": "stream",
          "text": [
            "1/1 [==============================] - 1s 723ms/step\n"
          ]
        },
        {
          "data": {
            "text/plain": [
              "array([[[0.08079996, 0.7803879 , 0.13881223]]], dtype=float32)"
            ]
          },
          "execution_count": 25,
          "metadata": {},
          "output_type": "execute_result"
        }
      ],
      "source": [
        "# org-076.txt and FID-01.txt -> 0\n",
        "prediction = model.predict([\n",
        "    preprocess(\"This article delves into the intricacies of adaptive fuzzy event-triggered formation tracking control for nonholonomic multirobot systems characterized by infinite actuator faults and range constraints. Traditional cheating detection methods have many disadvantages, such as difficult to detect covert equipment cheating, multi-source cheating, difficult to distinguish plagiarists from plagiarists, difficult to distinguish plagiarists from victims, or plagiarism from coincidences. To address these issues, we leverage the power of fuzzy logic systems (FLSs) and employ adaptive methods to approximate unknown nonlinear functions and uncertain parameters present in robotic dynamics. In the course of information exploration, the problems of collision avoidance and connectivity maintenance are ever present due to limitations of distance and visual fields. In this paper, the concept of knowledge point mastery Index is introduced to measure students’ mastery of a certain knowledge point, and a test method of cheating based on improved cognitive diagnostic model is proposed. Furthermore, to reduce the number of controller executions and compensate for any effect arising from infinite actuator failures, robots engage with their leader at the moment of actuator faults using fewer network communication resources yet maintain uninterrupted tracking of the desired trajectory generated by the leader. We guarantee that all signals are semi-global uniformly ultimately bounded (SGUUB). Ultimately, we demonstrate the practical feasibility of the ETFT control strategy for nonholonomic multirobot systems. The experiments show that the precision and recall rate of this method are significantly higher than those of the method based on the false-same rate, the method based on the false-same rate and the right-same rate and the method based on the Person-Fit index.\"),\n",
        "    preprocess(\"This article delves into the intricacies of adaptive fuzzy event-triggered formation tracking control for nonholonomic multirobot systems characterized by infinite actuator faults and range constraints. To address these issues, we leverage the power of fuzzy logic systems (FLSs) and employ adaptive methods to approximate unknown nonlinear functions and uncertain parameters present in robotic dynamics. In the course of information exploration, the problems of collision avoidance and connectivity maintenance are ever present due to limitations of distance and visual fields. In this regard, we introduce a general barrier function and prescribed performance methodology to tackle constrained range impediments effectively. Furthermore, to reduce the number of controller executions and compensate for any effect arising from infinite actuator failures, robots engage with their leader at the moment of actuator faults using fewer network communication resources yet maintain uninterrupted tracking of the desired trajectory generated by the leader. With the aid of the dynamic surface technology, we propose a decentralized adaptive event-triggering fault-tolerant (ETFT) formation control strategy. We guarantee that all signals are semi-global uniformly ultimately bounded (SGUUB). Ultimately, we demonstrate the practical feasibility of the ETFT control strategy for nonholonomic multirobot systems.\")])\n",
        "prediction"
      ]
    },
    {
      "cell_type": "code",
      "execution_count": 26,
      "metadata": {},
      "outputs": [
        {
          "name": "stdout",
          "output_type": "stream",
          "text": [
            "1/1 [==============================] - 0s 72ms/step\n"
          ]
        },
        {
          "data": {
            "text/plain": [
              "array([[[0.13911204, 0.70105714, 0.1598308 ]]], dtype=float32)"
            ]
          },
          "execution_count": 26,
          "metadata": {},
          "output_type": "execute_result"
        }
      ],
      "source": [
        "# org-016.txt and FID-03.txt -> 1\n",
        "prediction = model.predict([\n",
        "    preprocess(\"At present, the application of Artificial Intelligence (AI) in industrial control, smart home and other fields has received good response. However, AI technology has certain requirements for computer performance, and also faces problems in network security, data analysis, human-computer interaction, etc. At present, the visual platform of embedded system has achieved remarkable results in practical applications, but its development has been seriously hampered by problems such as low overall development efficiency and unstable system performance. The test results showed that when other conditions were the same, students and experts had 83.5% and 90% positive evaluations of System X, and 16.5% and 10% negative evaluations respectively. This paper designed an EP Vision System (VS) based on AI technology. The platform combined the embedded hardware design with the Support Vector Machine (SVM) algorithm to realize the intelligent robot interaction and target detection functions. It showed the positive relationship between AI technology and EP VS. The proportion of positive evaluation of System X was much higher than that of System Y, which indicated that System X can meet the actual application requirements and improve the system recognition efficiency to a certain extent. However, their positive evaluation of System Y only accounted for 19% and 4%, while the negative evaluation accounted for 81% and 96%. However, their positive evaluation of System Y only accounted for 19% and 4%, while the negative evaluation accounted for 81% and 96%. \"),\n",
        "    preprocess(\"At present, the application of Artificial Intelligence (AI) in industrial control, smart home and other fields has received good response. However, AI technology has certain requirements for computer performance, and also faces problems in network security, data analysis, human-computer interaction, etc. At present, the visual platform of embedded system has achieved remarkable results in practical applications, but its development has been seriously hampered by problems such as low overall development efficiency and unstable system performance. This paper designed an EP Vision System (VS) based on AI technology. The platform combined the embedded hardware design with the Support Vector Machine (SVM) algorithm to realize the intelligent robot interaction and target detection functions. The test results showed that when other conditions were the same, students and experts had 83.5% and 90% positive evaluations of System X, and 16.5% and 10% negative evaluations respectively. However, their positive evaluation of System Y only accounted for 19% and 4%, while the negative evaluation accounted for 81% and 96%. The proportion of positive evaluation of System X was much higher than that of System Y, which indicated that System X can meet the actual application requirements and improve the system recognition efficiency to a certain extent. It showed the positive relationship between AI technology and EP VS.\")])\n",
        "prediction"
      ]
    },
    {
      "cell_type": "code",
      "execution_count": 27,
      "metadata": {},
      "outputs": [
        {
          "name": "stdout",
          "output_type": "stream",
          "text": [
            "1/1 [==============================] - 0s 68ms/step\n"
          ]
        },
        {
          "data": {
            "text/plain": [
              "array([[[0.07581609, 0.7462018 , 0.17798208]]], dtype=float32)"
            ]
          },
          "execution_count": 27,
          "metadata": {},
          "output_type": "execute_result"
        }
      ],
      "source": [
        "# org-109.txt and FID-09.txt -> 2\n",
        "prediction = model.predict([\n",
        "    preprocess(\"Drug designing and development represent crucial areas of research for pharmaceutical companies and chemical scientists. However, challenges such as low efficacy, off-target delivery, time consumption, and high cost hinder progress in drug design and discovery. Additionally, the complexity and volume of data from genomics, proteomics, microarray data, and clinical trials pose significant obstacles in the drug discovery pipeline. Artificial intelligence (AI) and machine learning (ML) technologies have revolutionized drug discovery and development, particularly through the use of artificial neural networks and deep learning algorithms. These technologies have modernized various processes in drug discovery, including peptide synthesis, structure-based virtual screening, ligand-based virtual screening, toxicity prediction, drug monitoring and release, pharmacophore modeling, quantitative structure–activity relationship, drug repositioning, polypharmacology, and physiochemical activity. Historical evidence supports the implementation of AI and deep learning in drug discovery. Furthermore, novel data mining, curation, and management techniques have provided critical support to newly developed modeling algorithms. In summary, advancements in AI and deep learning offer significant opportunities for rational drug design and discovery, ultimately benefiting mankind. Drug designing and development is an important area of research for pharmaceutical companies and chemical scientists. However, low efficacy, off-target delivery, time consumption, and high cost impose a hurdle and challenges that impact drug design and discovery. Further, complex and big data from genomics, proteomics, microarray data, and clinical trials also impose an obstacle in the drug discovery pipeline. Artificial intelligence and machine learning technology play a crucial role in drug discovery and development. In other words, artificial neural networks and deep learning algorithms have modernized the area. Machine learning and deep learning algorithms have been implemented in several drug discovery processes such as peptide synthesis, structure-based virtual screening, ligand-based virtual screening, toxicity prediction, drug monitoring and release, pharmacophore modeling, quantitative structure–activity relationship, drug repositioning, polypharmacology, and physiochemical activity. Evidence from the past strengthens the implementation of artificial intelligence and deep learning in this field. Moreover, novel data mining, curation, and management techniques provided critical support to recently developed modeling algorithms. In summary, artificial intelligence and deep learning advancements provide an excellent opportunity for rational drug design and discovery process, which will eventually impact mankind. \"),\n",
        "    preprocess(\"Drug designing and development is an important area of research for pharmaceutical companies and chemical scientists. However, low efficacy, off-target delivery, time consumption, and high cost impose a hurdle and challenges that impact drug design and discovery. Further, complex and big data from genomics, proteomics, microarray data, and clinical trials also impose an obstacle in the drug discovery pipeline. Artificial intelligence and machine learning technology play a crucial role in drug discovery and development. In other words, artificial neural networks and deep learning algorithms have modernized the area. Machine learning and deep learning algorithms have been implemented in several drug discovery processes such as peptide synthesis, structure-based virtual screening, ligand-based virtual screening, toxicity prediction, drug monitoring and release, pharmacophore modeling, quantitative structure–activity relationship, drug repositioning, polypharmacology, and physiochemical activity. Evidence from the past strengthens the implementation of artificial intelligence and deep learning in this field. Moreover, novel data mining, curation, and management techniques provided critical support to recently developed modeling algorithms. In summary, artificial intelligence and deep learning advancements provide an excellent opportunity for rational drug design and discovery process, which will eventually impact mankind. \")])\n",
        "prediction"
      ]
    }
  ],
  "metadata": {
    "accelerator": "GPU",
    "colab": {
      "gpuType": "T4",
      "provenance": []
    },
    "kernelspec": {
      "display_name": "Python 3",
      "name": "python3"
    },
    "language_info": {
      "codemirror_mode": {
        "name": "ipython",
        "version": 3
      },
      "file_extension": ".py",
      "mimetype": "text/x-python",
      "name": "python",
      "nbconvert_exporter": "python",
      "pygments_lexer": "ipython3",
      "version": "3.9.6"
    }
  },
  "nbformat": 4,
  "nbformat_minor": 0
}
