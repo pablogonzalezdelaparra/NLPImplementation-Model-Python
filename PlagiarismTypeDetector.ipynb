{
  "cells": [
    {
      "cell_type": "code",
      "execution_count": 211,
      "metadata": {
        "id": "BKPsmxNkfrJQ"
      },
      "outputs": [],
      "source": [
        "# Import libraries\n",
        "import pandas as pd\n",
        "import tensorflow as tf\n",
        "from keras.models import Model\n",
        "from keras.layers import Input, Embedding, LSTM, Dense, BatchNormalization, Dropout\n",
        "from keras.callbacks import EarlyStopping\n",
        "from keras.preprocessing.text import Tokenizer\n",
        "from keras.preprocessing.sequence import pad_sequences"
      ]
    },
    {
      "cell_type": "code",
      "execution_count": 212,
      "metadata": {
        "id": "79dXdeZXNmcI"
      },
      "outputs": [],
      "source": [
        "# Load data\n",
        "data = pd.read_csv('data.csv')\n",
        "data = data.sample(frac=1).reset_index(drop=True)"
      ]
    },
    {
      "cell_type": "code",
      "execution_count": 213,
      "metadata": {},
      "outputs": [
        {
          "name": "stdout",
          "output_type": "stream",
          "text": [
            "plagiarized        0\n",
            "original           0\n",
            "plagiarism_type    0\n",
            "dtype: int64\n"
          ]
        },
        {
          "data": {
            "text/html": [
              "<div>\n",
              "<style scoped>\n",
              "    .dataframe tbody tr th:only-of-type {\n",
              "        vertical-align: middle;\n",
              "    }\n",
              "\n",
              "    .dataframe tbody tr th {\n",
              "        vertical-align: top;\n",
              "    }\n",
              "\n",
              "    .dataframe thead th {\n",
              "        text-align: right;\n",
              "    }\n",
              "</style>\n",
              "<table border=\"1\" class=\"dataframe\">\n",
              "  <thead>\n",
              "    <tr style=\"text-align: right;\">\n",
              "      <th></th>\n",
              "      <th>plagiarized</th>\n",
              "      <th>original</th>\n",
              "      <th>plagiarism_type</th>\n",
              "    </tr>\n",
              "  </thead>\n",
              "  <tbody>\n",
              "    <tr>\n",
              "      <th>0</th>\n",
              "      <td>Recent technological developments have enabled...</td>\n",
              "      <td>Recent technological developments have enabled...</td>\n",
              "      <td>0</td>\n",
              "    </tr>\n",
              "    <tr>\n",
              "      <th>1</th>\n",
              "      <td>The controller maintains maximum potential ene...</td>\n",
              "      <td>﻿The performance of photovoltaic (PV) affected...</td>\n",
              "      <td>2</td>\n",
              "    </tr>\n",
              "    <tr>\n",
              "      <th>2</th>\n",
              "      <td>With the help of recent technical advancements...</td>\n",
              "      <td>Recent technological developments have enabled...</td>\n",
              "      <td>2</td>\n",
              "    </tr>\n",
              "    <tr>\n",
              "      <th>3</th>\n",
              "      <td>Artificial Intelligence (AI) is reshaping the ...</td>\n",
              "      <td>Artificial Intelligence (AI) is reshaping the ...</td>\n",
              "      <td>1</td>\n",
              "    </tr>\n",
              "    <tr>\n",
              "      <th>4</th>\n",
              "      <td>With the advancement of both education and tec...</td>\n",
              "      <td>With the development of education and technolo...</td>\n",
              "      <td>2</td>\n",
              "    </tr>\n",
              "    <tr>\n",
              "      <th>...</th>\n",
              "      <td>...</td>\n",
              "      <td>...</td>\n",
              "      <td>...</td>\n",
              "    </tr>\n",
              "    <tr>\n",
              "      <th>655</th>\n",
              "      <td>In his keynote session at ICCE 2019, Stephen Y...</td>\n",
              "      <td>As addressed by Stephen Yang in his ICCE 2019 ...</td>\n",
              "      <td>2</td>\n",
              "    </tr>\n",
              "    <tr>\n",
              "      <th>656</th>\n",
              "      <td>As of 2021, more than 30 countries have releas...</td>\n",
              "      <td>As of 2021, more than 30 countries have releas...</td>\n",
              "      <td>0</td>\n",
              "    </tr>\n",
              "    <tr>\n",
              "      <th>657</th>\n",
              "      <td>These advanced algorithms are designed for rap...</td>\n",
              "      <td>Using artificial intelligence (AI) to its tran...</td>\n",
              "      <td>1</td>\n",
              "    </tr>\n",
              "    <tr>\n",
              "      <th>658</th>\n",
              "      <td>How can the risks associated with autonomous v...</td>\n",
              "      <td>How would people distribute risks of autonomou...</td>\n",
              "      <td>2</td>\n",
              "    </tr>\n",
              "    <tr>\n",
              "      <th>659</th>\n",
              "      <td>Secondly, a systematic literature review was u...</td>\n",
              "      <td>Smart cities represent the convergence of info...</td>\n",
              "      <td>1</td>\n",
              "    </tr>\n",
              "  </tbody>\n",
              "</table>\n",
              "<p>660 rows × 3 columns</p>\n",
              "</div>"
            ],
            "text/plain": [
              "                                           plagiarized  \\\n",
              "0    Recent technological developments have enabled...   \n",
              "1    The controller maintains maximum potential ene...   \n",
              "2    With the help of recent technical advancements...   \n",
              "3    Artificial Intelligence (AI) is reshaping the ...   \n",
              "4    With the advancement of both education and tec...   \n",
              "..                                                 ...   \n",
              "655  In his keynote session at ICCE 2019, Stephen Y...   \n",
              "656  As of 2021, more than 30 countries have releas...   \n",
              "657  These advanced algorithms are designed for rap...   \n",
              "658  How can the risks associated with autonomous v...   \n",
              "659  Secondly, a systematic literature review was u...   \n",
              "\n",
              "                                              original  plagiarism_type  \n",
              "0    Recent technological developments have enabled...                0  \n",
              "1    ﻿The performance of photovoltaic (PV) affected...                2  \n",
              "2    Recent technological developments have enabled...                2  \n",
              "3    Artificial Intelligence (AI) is reshaping the ...                1  \n",
              "4    With the development of education and technolo...                2  \n",
              "..                                                 ...              ...  \n",
              "655  As addressed by Stephen Yang in his ICCE 2019 ...                2  \n",
              "656  As of 2021, more than 30 countries have releas...                0  \n",
              "657  Using artificial intelligence (AI) to its tran...                1  \n",
              "658  How would people distribute risks of autonomou...                2  \n",
              "659  Smart cities represent the convergence of info...                1  \n",
              "\n",
              "[660 rows x 3 columns]"
            ]
          },
          "execution_count": 213,
          "metadata": {},
          "output_type": "execute_result"
        }
      ],
      "source": [
        "# Preprocess data\n",
        "print(data.isna().sum())\n",
        "data.dropna(inplace=True)\n",
        "data"
      ]
    },
    {
      "cell_type": "code",
      "execution_count": 214,
      "metadata": {},
      "outputs": [],
      "source": [
        "# Load test data\n",
        "test_data = pd.read_csv('test_data.csv')\n",
        "test_data = test_data.sample(frac=1).reset_index(drop=True)"
      ]
    },
    {
      "cell_type": "code",
      "execution_count": 215,
      "metadata": {},
      "outputs": [
        {
          "name": "stdout",
          "output_type": "stream",
          "text": [
            "plagiarized        0\n",
            "original           0\n",
            "plagiarism_type    0\n",
            "dtype: int64\n"
          ]
        },
        {
          "data": {
            "text/html": [
              "<div>\n",
              "<style scoped>\n",
              "    .dataframe tbody tr th:only-of-type {\n",
              "        vertical-align: middle;\n",
              "    }\n",
              "\n",
              "    .dataframe tbody tr th {\n",
              "        vertical-align: top;\n",
              "    }\n",
              "\n",
              "    .dataframe thead th {\n",
              "        text-align: right;\n",
              "    }\n",
              "</style>\n",
              "<table border=\"1\" class=\"dataframe\">\n",
              "  <thead>\n",
              "    <tr style=\"text-align: right;\">\n",
              "      <th></th>\n",
              "      <th>plagiarized</th>\n",
              "      <th>original</th>\n",
              "      <th>plagiarism_type</th>\n",
              "    </tr>\n",
              "  </thead>\n",
              "  <tbody>\n",
              "    <tr>\n",
              "      <th>0</th>\n",
              "      <td>The utilization of Artificial Intelligence (AI...</td>\n",
              "      <td>The sphere of artificial intelligence (AI) tec...</td>\n",
              "      <td>2</td>\n",
              "    </tr>\n",
              "    <tr>\n",
              "      <th>1</th>\n",
              "      <td>This article delves into the intricacies of ad...</td>\n",
              "      <td>This article delves into the intricacies of ad...</td>\n",
              "      <td>0</td>\n",
              "    </tr>\n",
              "    <tr>\n",
              "      <th>2</th>\n",
              "      <td>Drug designing and development represent cruci...</td>\n",
              "      <td>Drug designing and development is an important...</td>\n",
              "      <td>2</td>\n",
              "    </tr>\n",
              "    <tr>\n",
              "      <th>3</th>\n",
              "      <td>Machine learning (ML) is a form of artificial ...</td>\n",
              "      <td>Machine learning (ML) is a form of artificial ...</td>\n",
              "      <td>0</td>\n",
              "    </tr>\n",
              "    <tr>\n",
              "      <th>4</th>\n",
              "      <td>At present, the application of Artificial Inte...</td>\n",
              "      <td>At present, the application of Artificial Inte...</td>\n",
              "      <td>1</td>\n",
              "    </tr>\n",
              "    <tr>\n",
              "      <th>5</th>\n",
              "      <td>Interactive software agents, such as chatbots,...</td>\n",
              "      <td>Interactive software agents, such as chatbots,...</td>\n",
              "      <td>1</td>\n",
              "    </tr>\n",
              "  </tbody>\n",
              "</table>\n",
              "</div>"
            ],
            "text/plain": [
              "                                         plagiarized  \\\n",
              "0  The utilization of Artificial Intelligence (AI...   \n",
              "1  This article delves into the intricacies of ad...   \n",
              "2  Drug designing and development represent cruci...   \n",
              "3  Machine learning (ML) is a form of artificial ...   \n",
              "4  At present, the application of Artificial Inte...   \n",
              "5  Interactive software agents, such as chatbots,...   \n",
              "\n",
              "                                            original  plagiarism_type  \n",
              "0  The sphere of artificial intelligence (AI) tec...                2  \n",
              "1  This article delves into the intricacies of ad...                0  \n",
              "2  Drug designing and development is an important...                2  \n",
              "3  Machine learning (ML) is a form of artificial ...                0  \n",
              "4  At present, the application of Artificial Inte...                1  \n",
              "5  Interactive software agents, such as chatbots,...                1  "
            ]
          },
          "execution_count": 215,
          "metadata": {},
          "output_type": "execute_result"
        }
      ],
      "source": [
        "# Preprocess test data\n",
        "print(test_data.isna().sum())\n",
        "test_data.dropna(inplace=True)\n",
        "test_data"
      ]
    },
    {
      "cell_type": "code",
      "execution_count": 216,
      "metadata": {
        "id": "XBC961bCOeMc"
      },
      "outputs": [],
      "source": [
        "# Assign data to variables\n",
        "plagiarized_texts = data['plagiarized']\n",
        "original_texts = data['original']\n",
        "labels = data['plagiarism_type']"
      ]
    },
    {
      "cell_type": "code",
      "execution_count": 217,
      "metadata": {},
      "outputs": [],
      "source": [
        "# Assign test data to variables\n",
        "test_plagiarized_texts = test_data['plagiarized']\n",
        "test_original_texts = test_data['original']\n",
        "test_labels = test_data['plagiarism_type']"
      ]
    },
    {
      "cell_type": "code",
      "execution_count": 218,
      "metadata": {
        "id": "llfmq_g8OlzI"
      },
      "outputs": [],
      "source": [
        "# Fill missing values\n",
        "plagiarized_texts = plagiarized_texts.fillna('')\n",
        "original_texts = original_texts.fillna('')"
      ]
    },
    {
      "cell_type": "code",
      "execution_count": 219,
      "metadata": {},
      "outputs": [],
      "source": [
        "# Fill missing test values\n",
        "test_plagiarized_texts = test_plagiarized_texts.fillna('')\n",
        "test_original_texts = test_original_texts.fillna('')"
      ]
    },
    {
      "cell_type": "code",
      "execution_count": 220,
      "metadata": {
        "id": "VBrZiejmOsHJ"
      },
      "outputs": [],
      "source": [
        "# Define parameters\n",
        "max_sequence_length = 800\n",
        "embedding_dim = 300\n",
        "num_classes = 3"
      ]
    },
    {
      "cell_type": "code",
      "execution_count": 221,
      "metadata": {},
      "outputs": [
        {
          "data": {
            "text/plain": [
              "'Recent technological developments have enabled computers to identify and categorize facial expressions to determine a person’s emotional state in an image or a video. This process, called “Facial Expression Recognition (FER)”, has become one of the most popular research areas in computer vision. In recent times, deep FER systems have primarily concentrated on addressing two significant challenges: the problem of overfitting due to limited training data availability, and the presence of expression-unrelated variations, including illumination, head pose, image resolution, and identity bias. In this paper, a comprehensive survey is provided on deep FER, encompassing algorithms and datasets that offer insights into these intrinsic problems. Initially, this paper presents a detailed timeline showcasing the evolution of methods and datasets in deep facial expression recognition (FER). This timeline illustrates the progression and development of the techniques and data resources used in FER. With the aid of using the system, the volleyball technique level of students has been improved, and the teaching effect has been significantly enhanced. from the pro-deep learning era (traditional methods using handcrafted features, i.e., SVM and HOG, etc.) to the deep learning era. Moreover, a brief introduction is provided related to the benchmark datasets (there are two categories: controlled environments (lab) and uncontrolled environments (in the wild)) used to evaluate different FER methods and a comparison of different FER models. It has the potential to effectively provide individualized music therapy to individuals with illness. Each line is then transformed into rectangular patches for character recognition by the text recognition network, comprising a vision-based text recognition model and a language network. The remaining challenges and corresponding opportunities in FER and the future directions for designing robust deep FER systems are also pinpointed. Recent technological developments have enabled computers to identify and categorize facial expressions to determine a person’s emotional state in an image or a video. This process, called “Facial Expression Recognition (FER)”, has become one of the most popular research areas in computer vision. In recent times, deep FER systems have primarily concentrated on addressing two significant challenges: the problem of overfitting due to limited training data availability, and the presence of expression-unrelated variations, including illumination, head pose, image resolution, and identity bias. In this paper, a comprehensive survey is provided on deep FER, encompassing algorithms and datasets that offer insights into these intrinsic problems. Initially, this paper presents a detailed timeline showcasing the evolution of methods and datasets in deep facial expression recognition (FER). This timeline illustrates the progression and development of the techniques and data resources used in FER. Then, a comprehensive review of FER methods is introduced, including the basic principles of FER (components such as preprocessing, feature extraction and classification, and methods, etc.) from the pro-deep learning era (traditional methods using handcrafted features, i.e., SVM and HOG, etc.) to the deep learning era. Moreover, a brief introduction is provided related to the benchmark datasets (there are two categories: controlled environments (lab) and uncontrolled environments (in the wild)) used to evaluate different FER methods and a comparison of different FER models. Existing deep neural networks and related training strategies designed for FER, based on static images and dynamic image sequences, are discussed. The remaining challenges and corresponding opportunities in FER and the future directions for designing robust deep FER systems are also pinpointed.'"
            ]
          },
          "execution_count": 221,
          "metadata": {},
          "output_type": "execute_result"
        }
      ],
      "source": [
        "# Combine texts\n",
        "texts = (plagiarized_texts + ' ' + original_texts).astype(str)\n",
        "texts[0]"
      ]
    },
    {
      "cell_type": "code",
      "execution_count": 222,
      "metadata": {
        "id": "gSpYva4lO5Jg"
      },
      "outputs": [],
      "source": [
        "# Tokenize texts\n",
        "tokens = [word for sentence in texts for word in sentence.split()]"
      ]
    },
    {
      "cell_type": "code",
      "execution_count": 223,
      "metadata": {
        "colab": {
          "base_uri": "https://localhost:8080/"
        },
        "id": "gUPwWpLDPFUb",
        "outputId": "71ea4df6-6b79-4d30-f6bf-c94f8de720ba"
      },
      "outputs": [
        {
          "data": {
            "text/plain": [
              "8405"
            ]
          },
          "execution_count": 223,
          "metadata": {},
          "output_type": "execute_result"
        }
      ],
      "source": [
        "# Get vocabulary size\n",
        "vocabulary_size = len(set(tokens))\n",
        "vocabulary_size"
      ]
    },
    {
      "cell_type": "code",
      "execution_count": 224,
      "metadata": {
        "id": "Jg7Z1C4WPSCX"
      },
      "outputs": [],
      "source": [
        "# Tokenize texts\n",
        "tokenizer = Tokenizer(num_words=vocabulary_size)\n",
        "tokenizer.fit_on_texts(texts)"
      ]
    },
    {
      "cell_type": "code",
      "execution_count": 225,
      "metadata": {
        "id": "bdbIjHNvRjXM"
      },
      "outputs": [],
      "source": [
        "# Convert texts to sequences and pad them\n",
        "sequences_plagiarized = tokenizer.texts_to_sequences(plagiarized_texts)\n",
        "sequences_original = tokenizer.texts_to_sequences(original_texts)\n",
        "padded_sequences_plagiarized = pad_sequences(sequences_plagiarized, maxlen=max_sequence_length)\n",
        "padded_sequences_original = pad_sequences(sequences_original, maxlen=max_sequence_length)"
      ]
    },
    {
      "cell_type": "code",
      "execution_count": 226,
      "metadata": {},
      "outputs": [],
      "source": [
        "# Convert test texts to sequences and pad them\n",
        "test_sequences_plagiarized = tokenizer.texts_to_sequences(test_plagiarized_texts)\n",
        "test_sequences_original = tokenizer.texts_to_sequences(test_original_texts)\n",
        "test_padded_sequences_plagiarized = pad_sequences(test_sequences_plagiarized, maxlen=max_sequence_length)\n",
        "test_padded_sequences_original = pad_sequences(test_sequences_original, maxlen=max_sequence_length)"
      ]
    },
    {
      "cell_type": "code",
      "execution_count": 227,
      "metadata": {
        "colab": {
          "base_uri": "https://localhost:8080/"
        },
        "id": "pW56IBpRUhDM",
        "outputId": "f2ab36ca-b055-4f0d-933a-7697cc35a12d"
      },
      "outputs": [
        {
          "data": {
            "text/plain": [
              "\"\\ninput_layer1 = Input(shape=(max_sequence_length,))\\ninput_layer2 = Input(shape=(max_sequence_length,))\\n\\nembedding_layer = Embedding(input_dim=vocabulary_size, output_dim=embedding_dim)\\n\\nlstm_layer = LSTM(units=50)\\n\\nx1 = embedding_layer(input_layer1)\\nx1 = lstm_layer(x1)\\n\\nx2 = embedding_layer(input_layer2)\\nx2 = lstm_layer(x2)\\n\\ndistance_layer = Lambda(lambda x: tf.keras.backend.abs(x[0] - x[1]),\\n                        output_shape=lambda _: (1,))([x1, x2])\\n\\noutput_layer = Dense(num_classes, activation='softmax')(distance_layer)\\n\\nmodel = Model(inputs=[input_layer1, input_layer2], outputs=output_layer)\\n\\nmodel.compile(optimizer=Adam(0.001), loss='sparse_categorical_crossentropy', metrics=['accuracy'])\\n\\ncallbacks = [\\n    EarlyStopping(monitor='val_loss', patience=2, restore_best_weights=True),\\n]\\n\""
            ]
          },
          "execution_count": 227,
          "metadata": {},
          "output_type": "execute_result"
        }
      ],
      "source": [
        "# Define model (First version)\n",
        "\"\"\"\n",
        "input_layer1 = Input(shape=(max_sequence_length,))\n",
        "input_layer2 = Input(shape=(max_sequence_length,))\n",
        "\n",
        "embedding_layer = Embedding(input_dim=vocabulary_size, output_dim=embedding_dim)\n",
        "\n",
        "lstm_layer = LSTM(units=50)\n",
        "\n",
        "x1 = embedding_layer(input_layer1)\n",
        "x1 = lstm_layer(x1)\n",
        "\n",
        "x2 = embedding_layer(input_layer2)\n",
        "x2 = lstm_layer(x2)\n",
        "\n",
        "distance_layer = Lambda(lambda x: tf.keras.backend.abs(x[0] - x[1]),\n",
        "                        output_shape=lambda _: (1,))([x1, x2])\n",
        "\n",
        "output_layer = Dense(num_classes, activation='softmax')(distance_layer)\n",
        "\n",
        "model = Model(inputs=[input_layer1, input_layer2], outputs=output_layer)\n",
        "\n",
        "model.compile(optimizer=Adam(0.001), loss='sparse_categorical_crossentropy', metrics=['accuracy'])\n",
        "\n",
        "callbacks = [\n",
        "    EarlyStopping(monitor='val_loss', patience=2, restore_best_weights=True),\n",
        "]\n",
        "\"\"\""
      ]
    },
    {
      "cell_type": "code",
      "execution_count": 228,
      "metadata": {},
      "outputs": [
        {
          "data": {
            "text/plain": [
              "\"\\nfrom keras.layers import LSTM, Embedding, Dense, Input, Concatenate, Dropout # type: ignore\\n\\n# Define model\\ninput_layer1 = Input(shape=(max_sequence_length,))\\ninput_layer2 = Input(shape=(max_sequence_length,))\\n\\nembedding_layer = Embedding(input_dim=vocabulary_size, output_dim=embedding_dim)\\n\\n# First LSTM layer\\nlstm_layer1 = LSTM(units=100, return_sequences=True)\\nx1 = embedding_layer(input_layer1)\\nx1 = lstm_layer1(x1)\\n\\n# Second LSTM layer\\nlstm_layer2 = LSTM(units=50)\\nx1 = lstm_layer2(x1)\\n\\n# Repeat for the second input\\nx2 = embedding_layer(input_layer2)\\nx2 = lstm_layer1(x2)\\nx2 = lstm_layer2(x2)\\n\\n# Concatenate the LSTM outputs\\nconcatenated = Concatenate()([x1, x2])\\n\\n# Add additional layers for processing\\nx = Dense(128, activation='relu')(concatenated)\\nx = Dropout(0.5)(x)\\n\\noutput_layer = Dense(num_classes, activation='softmax')(x)\\n\\nmodel = Model(inputs=[input_layer1, input_layer2], outputs=output_layer)\\n\\nmodel.compile(optimizer='adam', loss='sparse_categorical_crossentropy', metrics=['accuracy'])\\n\\ncallbacks = [\\n    EarlyStopping(monitor='val_loss', patience=5, restore_best_weights=True),\\n]\\n\\nmodel.summary()\\n\""
            ]
          },
          "execution_count": 228,
          "metadata": {},
          "output_type": "execute_result"
        }
      ],
      "source": [
        "# Define model (Second version)\n",
        "\"\"\"\n",
        "from keras.layers import LSTM, Embedding, Dense, Input, Concatenate, Dropout # type: ignore\n",
        "\n",
        "# Define model\n",
        "input_layer1 = Input(shape=(max_sequence_length,))\n",
        "input_layer2 = Input(shape=(max_sequence_length,))\n",
        "\n",
        "embedding_layer = Embedding(input_dim=vocabulary_size, output_dim=embedding_dim)\n",
        "\n",
        "# First LSTM layer\n",
        "lstm_layer1 = LSTM(units=100, return_sequences=True)\n",
        "x1 = embedding_layer(input_layer1)\n",
        "x1 = lstm_layer1(x1)\n",
        "\n",
        "# Second LSTM layer\n",
        "lstm_layer2 = LSTM(units=50)\n",
        "x1 = lstm_layer2(x1)\n",
        "\n",
        "# Repeat for the second input\n",
        "x2 = embedding_layer(input_layer2)\n",
        "x2 = lstm_layer1(x2)\n",
        "x2 = lstm_layer2(x2)\n",
        "\n",
        "# Concatenate the LSTM outputs\n",
        "concatenated = Concatenate()([x1, x2])\n",
        "\n",
        "# Add additional layers for processing\n",
        "x = Dense(128, activation='relu')(concatenated)\n",
        "x = Dropout(0.5)(x)\n",
        "\n",
        "output_layer = Dense(num_classes, activation='softmax')(x)\n",
        "\n",
        "model = Model(inputs=[input_layer1, input_layer2], outputs=output_layer)\n",
        "\n",
        "model.compile(optimizer='adam', loss='sparse_categorical_crossentropy', metrics=['accuracy'])\n",
        "\n",
        "callbacks = [\n",
        "    EarlyStopping(monitor='val_loss', patience=5, restore_best_weights=True),\n",
        "]\n",
        "\n",
        "model.summary()\n",
        "\"\"\""
      ]
    },
    {
      "cell_type": "code",
      "execution_count": 232,
      "metadata": {},
      "outputs": [],
      "source": [
        "# Define model (Third version)\n",
        "\n",
        "# Define the model architecture\n",
        "input_plagiarized = Input(shape=(max_sequence_length,))\n",
        "input_original = Input(shape=(max_sequence_length,))\n",
        "\n",
        "# TODO: TESTING\n",
        "from tensorflow.keras.initializers import Constant # type: ignore\n",
        "import numpy as np\n",
        "\n",
        "# Load pre-trained word embeddings (GloVe)\n",
        "embeddings_index = {}\n",
        "with open('glove.840B.300d.txt', encoding='utf-8') as f:\n",
        "    for line in f:\n",
        "        values = line.split()\n",
        "        word = values[0]\n",
        "        try:\n",
        "            coefs = np.asarray(values[1:], dtype='float32')\n",
        "            embeddings_index[word] = coefs\n",
        "        except ValueError:\n",
        "            pass  # Skip lines that are not valid embedding vectors\n",
        "\n",
        "# Create embedding matrix\n",
        "embedding_matrix = np.zeros((vocabulary_size, embedding_dim))\n",
        "for word, i in word_index.items():\n",
        "    embedding_vector = embeddings_index.get(word)\n",
        "    if embedding_vector is not None:\n",
        "        embedding_matrix[i] = embedding_vector\n",
        "\n",
        "# Embedding layer with pre-trained word embeddings\n",
        "embedding_layer = Embedding(input_dim=vocabulary_size, \n",
        "                            output_dim=embedding_dim, \n",
        "                            embeddings_initializer=Constant(embedding_matrix),\n",
        "                            input_length=max_sequence_length,\n",
        "                            trainable=False)  # freeze the embeddings\n",
        "# TODO: TESTING\n",
        "\n",
        "# Embedding layer\n",
        "# embedding_layer = Embedding(input_dim=vocabulary_size, output_dim=embedding_dim)\n",
        "\n",
        "# Embedding sequences\n",
        "embedded_plagiarized = embedding_layer(input_plagiarized)\n",
        "embedded_original = embedding_layer(input_original)\n",
        "\n",
        "# LSTM layers\n",
        "lstm_layer = LSTM(128, return_sequences=True)\n",
        "\n",
        "lstm_output_plagiarized = lstm_layer(embedded_plagiarized)\n",
        "lstm_output_original = lstm_layer(embedded_original)\n",
        "\n",
        "# Attention mechanism\n",
        "attention = Dense(1, activation='tanh')\n",
        "attention_scores_original = attention(lstm_output_original)\n",
        "attention_scores_plagiarized = attention(lstm_output_plagiarized)\n",
        "attention_weights_original = tf.keras.layers.Softmax(axis=1)(attention_scores_original)\n",
        "attention_weights_plagiarized = tf.keras.layers.Softmax(axis=1)(attention_scores_plagiarized)\n",
        "context_original = tf.keras.layers.Dot(axes=1)([attention_weights_original, lstm_output_original])\n",
        "context_plagiarized = tf.keras.layers.Dot(axes=1)([attention_weights_plagiarized, lstm_output_plagiarized])\n",
        "\n",
        "# Concatenate attention context with original and plagiarized LSTM outputs\n",
        "merged_output = tf.keras.layers.Concatenate(axis=-1)([context_original, context_plagiarized])\n",
        "\n",
        "# Dropout for regularization\n",
        "dropout_layer = Dropout(0.5)\n",
        "merged_output = dropout_layer(merged_output)\n",
        "\n",
        "# Batch normalization for stability\n",
        "batch_norm_layer = BatchNormalization()\n",
        "merged_output = batch_norm_layer(merged_output)\n",
        "\n",
        "# Dense layer for classification\n",
        "output = Dense(num_classes, activation='softmax')(merged_output)\n",
        "\n",
        "# Model\n",
        "model = Model(inputs=[input_original, input_plagiarized], outputs=output)\n",
        "\n",
        "# Compile the model\n",
        "model.compile(optimizer='adam', loss='sparse_categorical_crossentropy', metrics=['accuracy'])"
      ]
    },
    {
      "cell_type": "code",
      "execution_count": 233,
      "metadata": {
        "colab": {
          "base_uri": "https://localhost:8080/"
        },
        "id": "ii6hTkO0cFBF",
        "outputId": "71c07100-ac7a-4091-bb54-b7d5ab8e7ef5"
      },
      "outputs": [
        {
          "name": "stdout",
          "output_type": "stream",
          "text": [
            "Model: \"model_6\"\n",
            "__________________________________________________________________________________________________\n",
            " Layer (type)                Output Shape                 Param #   Connected to                  \n",
            "==================================================================================================\n",
            " input_30 (InputLayer)       [(None, 800)]                0         []                            \n",
            "                                                                                                  \n",
            " input_29 (InputLayer)       [(None, 800)]                0         []                            \n",
            "                                                                                                  \n",
            " embedding_6 (Embedding)     (None, 800, 300)             2521500   ['input_29[0][0]',            \n",
            "                                                                     'input_30[0][0]']            \n",
            "                                                                                                  \n",
            " lstm_6 (LSTM)               (None, 800, 128)             219648    ['embedding_6[0][0]',         \n",
            "                                                                     'embedding_6[1][0]']         \n",
            "                                                                                                  \n",
            " dense_12 (Dense)            (None, 800, 1)               129       ['lstm_6[1][0]',              \n",
            "                                                                     'lstm_6[0][0]']              \n",
            "                                                                                                  \n",
            " softmax_12 (Softmax)        (None, 800, 1)               0         ['dense_12[0][0]']            \n",
            "                                                                                                  \n",
            " softmax_13 (Softmax)        (None, 800, 1)               0         ['dense_12[1][0]']            \n",
            "                                                                                                  \n",
            " dot_12 (Dot)                (None, 1, 128)               0         ['softmax_12[0][0]',          \n",
            "                                                                     'lstm_6[1][0]']              \n",
            "                                                                                                  \n",
            " dot_13 (Dot)                (None, 1, 128)               0         ['softmax_13[0][0]',          \n",
            "                                                                     'lstm_6[0][0]']              \n",
            "                                                                                                  \n",
            " concatenate_6 (Concatenate  (None, 1, 256)               0         ['dot_12[0][0]',              \n",
            " )                                                                   'dot_13[0][0]']              \n",
            "                                                                                                  \n",
            " dropout_6 (Dropout)         (None, 1, 256)               0         ['concatenate_6[0][0]']       \n",
            "                                                                                                  \n",
            " batch_normalization_6 (Bat  (None, 1, 256)               1024      ['dropout_6[0][0]']           \n",
            " chNormalization)                                                                                 \n",
            "                                                                                                  \n",
            " dense_13 (Dense)            (None, 1, 3)                 771       ['batch_normalization_6[0][0]'\n",
            "                                                                    ]                             \n",
            "                                                                                                  \n",
            "==================================================================================================\n",
            "Total params: 2743072 (10.46 MB)\n",
            "Trainable params: 221060 (863.52 KB)\n",
            "Non-trainable params: 2522012 (9.62 MB)\n",
            "__________________________________________________________________________________________________\n"
          ]
        }
      ],
      "source": [
        "# Show the model architecture\n",
        "model.summary()"
      ]
    },
    {
      "cell_type": "code",
      "execution_count": 234,
      "metadata": {},
      "outputs": [
        {
          "name": "stdout",
          "output_type": "stream",
          "text": [
            "Epoch 1/30\n",
            "17/17 [==============================] - 16s 804ms/step - loss: 1.2806 - accuracy: 0.3598 - val_loss: 1.1193 - val_accuracy: 0.2045\n",
            "Epoch 2/30\n",
            "17/17 [==============================] - 14s 830ms/step - loss: 1.1212 - accuracy: 0.4697 - val_loss: 1.1200 - val_accuracy: 0.2045\n",
            "Epoch 3/30\n",
            "17/17 [==============================] - 14s 805ms/step - loss: 1.0076 - accuracy: 0.5133 - val_loss: 1.1246 - val_accuracy: 0.2045\n"
          ]
        }
      ],
      "source": [
        "# Run the model\n",
        "history = model.fit([padded_sequences_original, padded_sequences_plagiarized], labels, epochs=30, \n",
        "                    batch_size=32, validation_split=0.2, callbacks=[EarlyStopping(patience=2)])"
      ]
    },
    {
      "cell_type": "code",
      "execution_count": null,
      "metadata": {},
      "outputs": [
        {
          "data": {
            "image/png": "[encoded data removed]",
            "text/plain": [
              "<Figure size 640x480 with 1 Axes>"
            ]
          },
          "metadata": {},
          "output_type": "display_data"
        },
        {
          "data": {
            "image/png": "[encoded data removed]",
            "text/plain": [
              "<Figure size 640x480 with 1 Axes>"
            ]
          },
          "metadata": {},
          "output_type": "display_data"
        }
      ],
      "source": [
        "# Visualizar la precisión y la pérdida de entrenamiento y prueba\n",
        "import matplotlib.pyplot as plt\n",
        "\n",
        "def plot_graphs(history, string):\n",
        "  plt.plot(history.history[string])\n",
        "  plt.plot(history.history['val_'+string])\n",
        "  plt.legend([string, 'val_'+string])\n",
        "  plt.xlabel(\"Epochs\")\n",
        "  plt.ylabel(string)\n",
        "  plt.show()\n",
        "\n",
        "plot_graphs(history, \"accuracy\")\n",
        "plot_graphs(history, \"loss\")"
      ]
    },
    {
      "cell_type": "code",
      "execution_count": 235,
      "metadata": {},
      "outputs": [
        {
          "name": "stdout",
          "output_type": "stream",
          "text": [
            "1/1 [==============================] - 0s 178ms/step - loss: 1.1152 - accuracy: 0.3333\n"
          ]
        }
      ],
      "source": [
        "# Test the model\n",
        "test_loss, test_accuracy = model.evaluate([test_padded_sequences_original, test_padded_sequences_plagiarized], test_labels)"
      ]
    },
    {
      "cell_type": "code",
      "execution_count": 236,
      "metadata": {
        "id": "ESjzjNQ_WXEO"
      },
      "outputs": [],
      "source": [
        "# Preprocess function\n",
        "def preprocess(sentence):\n",
        "  sequence = pad_sequences(tokenizer.texts_to_sequences([sentence]), maxlen=max_sequence_length)\n",
        "  return sequence"
      ]
    },
    {
      "cell_type": "code",
      "execution_count": 237,
      "metadata": {
        "colab": {
          "base_uri": "https://localhost:8080/"
        },
        "id": "-QhKEarqWGgB",
        "outputId": "9c58f4f6-1c8e-484f-f4bb-ec6ef9a48499"
      },
      "outputs": [
        {
          "name": "stdout",
          "output_type": "stream",
          "text": [
            "1/1 [==============================] - 1s 541ms/step\n"
          ]
        },
        {
          "data": {
            "text/plain": [
              "array([[[0.35487196, 0.3426349 , 0.30249313]]], dtype=float32)"
            ]
          },
          "execution_count": 237,
          "metadata": {},
          "output_type": "execute_result"
        }
      ],
      "source": [
        "# org-076.txt and FID-01.txt -> 0\n",
        "prediction = model.predict([\n",
        "    preprocess(\"This article delves into the intricacies of adaptive fuzzy event-triggered formation tracking control for nonholonomic multirobot systems characterized by infinite actuator faults and range constraints. Traditional cheating detection methods have many disadvantages, such as difficult to detect covert equipment cheating, multi-source cheating, difficult to distinguish plagiarists from plagiarists, difficult to distinguish plagiarists from victims, or plagiarism from coincidences. To address these issues, we leverage the power of fuzzy logic systems (FLSs) and employ adaptive methods to approximate unknown nonlinear functions and uncertain parameters present in robotic dynamics. In the course of information exploration, the problems of collision avoidance and connectivity maintenance are ever present due to limitations of distance and visual fields. In this paper, the concept of knowledge point mastery Index is introduced to measure students’ mastery of a certain knowledge point, and a test method of cheating based on improved cognitive diagnostic model is proposed. Furthermore, to reduce the number of controller executions and compensate for any effect arising from infinite actuator failures, robots engage with their leader at the moment of actuator faults using fewer network communication resources yet maintain uninterrupted tracking of the desired trajectory generated by the leader. We guarantee that all signals are semi-global uniformly ultimately bounded (SGUUB). Ultimately, we demonstrate the practical feasibility of the ETFT control strategy for nonholonomic multirobot systems. The experiments show that the precision and recall rate of this method are significantly higher than those of the method based on the false-same rate, the method based on the false-same rate and the right-same rate and the method based on the Person-Fit index.\"),\n",
        "    preprocess(\"This article delves into the intricacies of adaptive fuzzy event-triggered formation tracking control for nonholonomic multirobot systems characterized by infinite actuator faults and range constraints. To address these issues, we leverage the power of fuzzy logic systems (FLSs) and employ adaptive methods to approximate unknown nonlinear functions and uncertain parameters present in robotic dynamics. In the course of information exploration, the problems of collision avoidance and connectivity maintenance are ever present due to limitations of distance and visual fields. In this regard, we introduce a general barrier function and prescribed performance methodology to tackle constrained range impediments effectively. Furthermore, to reduce the number of controller executions and compensate for any effect arising from infinite actuator failures, robots engage with their leader at the moment of actuator faults using fewer network communication resources yet maintain uninterrupted tracking of the desired trajectory generated by the leader. With the aid of the dynamic surface technology, we propose a decentralized adaptive event-triggering fault-tolerant (ETFT) formation control strategy. We guarantee that all signals are semi-global uniformly ultimately bounded (SGUUB). Ultimately, we demonstrate the practical feasibility of the ETFT control strategy for nonholonomic multirobot systems.\")])\n",
        "prediction"
      ]
    },
    {
      "cell_type": "code",
      "execution_count": 239,
      "metadata": {},
      "outputs": [
        {
          "name": "stdout",
          "output_type": "stream",
          "text": [
            "1/1 [==============================] - 0s 65ms/step\n"
          ]
        },
        {
          "data": {
            "text/plain": [
              "array([[[0.37040275, 0.3332204 , 0.29637682]]], dtype=float32)"
            ]
          },
          "execution_count": 239,
          "metadata": {},
          "output_type": "execute_result"
        }
      ],
      "source": [
        "# org-016.txt and FID-03.txt -> 1\n",
        "prediction = model.predict([\n",
        "    preprocess(\"At present, the application of Artificial Intelligence (AI) in industrial control, smart home and other fields has received good response. However, AI technology has certain requirements for computer performance, and also faces problems in network security, data analysis, human-computer interaction, etc. At present, the visual platform of embedded system has achieved remarkable results in practical applications, but its development has been seriously hampered by problems such as low overall development efficiency and unstable system performance. The test results showed that when other conditions were the same, students and experts had 83.5% and 90% positive evaluations of System X, and 16.5% and 10% negative evaluations respectively. This paper designed an EP Vision System (VS) based on AI technology. The platform combined the embedded hardware design with the Support Vector Machine (SVM) algorithm to realize the intelligent robot interaction and target detection functions. It showed the positive relationship between AI technology and EP VS. The proportion of positive evaluation of System X was much higher than that of System Y, which indicated that System X can meet the actual application requirements and improve the system recognition efficiency to a certain extent. However, their positive evaluation of System Y only accounted for 19% and 4%, while the negative evaluation accounted for 81% and 96%. However, their positive evaluation of System Y only accounted for 19% and 4%, while the negative evaluation accounted for 81% and 96%. \"),\n",
        "    preprocess(\"At present, the application of Artificial Intelligence (AI) in industrial control, smart home and other fields has received good response. However, AI technology has certain requirements for computer performance, and also faces problems in network security, data analysis, human-computer interaction, etc. At present, the visual platform of embedded system has achieved remarkable results in practical applications, but its development has been seriously hampered by problems such as low overall development efficiency and unstable system performance. This paper designed an EP Vision System (VS) based on AI technology. The platform combined the embedded hardware design with the Support Vector Machine (SVM) algorithm to realize the intelligent robot interaction and target detection functions. The test results showed that when other conditions were the same, students and experts had 83.5% and 90% positive evaluations of System X, and 16.5% and 10% negative evaluations respectively. However, their positive evaluation of System Y only accounted for 19% and 4%, while the negative evaluation accounted for 81% and 96%. The proportion of positive evaluation of System X was much higher than that of System Y, which indicated that System X can meet the actual application requirements and improve the system recognition efficiency to a certain extent. It showed the positive relationship between AI technology and EP VS.\")])\n",
        "prediction"
      ]
    },
    {
      "cell_type": "code",
      "execution_count": 240,
      "metadata": {},
      "outputs": [
        {
          "name": "stdout",
          "output_type": "stream",
          "text": [
            "1/1 [==============================] - 0s 65ms/step\n"
          ]
        },
        {
          "data": {
            "text/plain": [
              "array([[[0.31726778, 0.3667758 , 0.3159564 ]]], dtype=float32)"
            ]
          },
          "execution_count": 240,
          "metadata": {},
          "output_type": "execute_result"
        }
      ],
      "source": [
        "# org-109.txt and FID-09.txt -> 2\n",
        "prediction = model.predict([\n",
        "    preprocess(\"Drug designing and development represent crucial areas of research for pharmaceutical companies and chemical scientists. However, challenges such as low efficacy, off-target delivery, time consumption, and high cost hinder progress in drug design and discovery. Additionally, the complexity and volume of data from genomics, proteomics, microarray data, and clinical trials pose significant obstacles in the drug discovery pipeline. Artificial intelligence (AI) and machine learning (ML) technologies have revolutionized drug discovery and development, particularly through the use of artificial neural networks and deep learning algorithms. These technologies have modernized various processes in drug discovery, including peptide synthesis, structure-based virtual screening, ligand-based virtual screening, toxicity prediction, drug monitoring and release, pharmacophore modeling, quantitative structure–activity relationship, drug repositioning, polypharmacology, and physiochemical activity. Historical evidence supports the implementation of AI and deep learning in drug discovery. Furthermore, novel data mining, curation, and management techniques have provided critical support to newly developed modeling algorithms. In summary, advancements in AI and deep learning offer significant opportunities for rational drug design and discovery, ultimately benefiting mankind. Drug designing and development is an important area of research for pharmaceutical companies and chemical scientists. However, low efficacy, off-target delivery, time consumption, and high cost impose a hurdle and challenges that impact drug design and discovery. Further, complex and big data from genomics, proteomics, microarray data, and clinical trials also impose an obstacle in the drug discovery pipeline. Artificial intelligence and machine learning technology play a crucial role in drug discovery and development. In other words, artificial neural networks and deep learning algorithms have modernized the area. Machine learning and deep learning algorithms have been implemented in several drug discovery processes such as peptide synthesis, structure-based virtual screening, ligand-based virtual screening, toxicity prediction, drug monitoring and release, pharmacophore modeling, quantitative structure–activity relationship, drug repositioning, polypharmacology, and physiochemical activity. Evidence from the past strengthens the implementation of artificial intelligence and deep learning in this field. Moreover, novel data mining, curation, and management techniques provided critical support to recently developed modeling algorithms. In summary, artificial intelligence and deep learning advancements provide an excellent opportunity for rational drug design and discovery process, which will eventually impact mankind. \"),\n",
        "    preprocess(\"Drug designing and development is an important area of research for pharmaceutical companies and chemical scientists. However, low efficacy, off-target delivery, time consumption, and high cost impose a hurdle and challenges that impact drug design and discovery. Further, complex and big data from genomics, proteomics, microarray data, and clinical trials also impose an obstacle in the drug discovery pipeline. Artificial intelligence and machine learning technology play a crucial role in drug discovery and development. In other words, artificial neural networks and deep learning algorithms have modernized the area. Machine learning and deep learning algorithms have been implemented in several drug discovery processes such as peptide synthesis, structure-based virtual screening, ligand-based virtual screening, toxicity prediction, drug monitoring and release, pharmacophore modeling, quantitative structure–activity relationship, drug repositioning, polypharmacology, and physiochemical activity. Evidence from the past strengthens the implementation of artificial intelligence and deep learning in this field. Moreover, novel data mining, curation, and management techniques provided critical support to recently developed modeling algorithms. In summary, artificial intelligence and deep learning advancements provide an excellent opportunity for rational drug design and discovery process, which will eventually impact mankind. \")])\n",
        "prediction"
      ]
    }
  ],
  "metadata": {
    "accelerator": "GPU",
    "colab": {
      "gpuType": "T4",
      "provenance": []
    },
    "kernelspec": {
      "display_name": "Python 3",
      "name": "python3"
    },
    "language_info": {
      "codemirror_mode": {
        "name": "ipython",
        "version": 3
      },
      "file_extension": ".py",
      "mimetype": "text/x-python",
      "name": "python",
      "nbconvert_exporter": "python",
      "pygments_lexer": "ipython3",
      "version": "3.9.6"
    }
  },
  "nbformat": 4,
  "nbformat_minor": 0
}
